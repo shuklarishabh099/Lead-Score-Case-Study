{
 "cells": [
  {
   "cell_type": "markdown",
   "id": "73e36f05",
   "metadata": {},
   "source": [
    "### CASE STUDY"
   ]
  },
  {
   "cell_type": "markdown",
   "id": "2f776b3e",
   "metadata": {},
   "source": [
    "#### STEP-1: IMPORTING DATA SET AND NECESSARY LIBRARIES"
   ]
  },
  {
   "cell_type": "code",
   "execution_count": 1,
   "id": "28269b16",
   "metadata": {},
   "outputs": [],
   "source": [
    "#supress warnings\n",
    "import warnings\n",
    "warnings.filterwarnings('ignore')"
   ]
  },
  {
   "cell_type": "code",
   "execution_count": 2,
   "id": "1c493c53",
   "metadata": {},
   "outputs": [],
   "source": [
    "import numpy as np\n",
    "import pandas as pd\n",
    "import matplotlib.pyplot as plt\n",
    "import seaborn as sns\n",
    "from sklearn.model_selection import train_test_split\n",
    "from sklearn.preprocessing import StandardScaler\n",
    "import statsmodels.api as sm\n",
    "from sklearn.feature_selection import RFE\n",
    "from sklearn.linear_model import LogisticRegression\n",
    "from statsmodels.stats.outliers_influence import variance_inflation_factor\n",
    "from sklearn import metrics \n",
    "from sklearn.metrics import precision_score, recall_score\n",
    "from sklearn.metrics import precision_recall_curve\n",
    "\n",
    "%matplotlib inline"
   ]
  },
  {
   "cell_type": "code",
   "execution_count": 3,
   "id": "753a1b01",
   "metadata": {},
   "outputs": [
    {
     "data": {
      "text/html": [
       "<div>\n",
       "<style scoped>\n",
       "    .dataframe tbody tr th:only-of-type {\n",
       "        vertical-align: middle;\n",
       "    }\n",
       "\n",
       "    .dataframe tbody tr th {\n",
       "        vertical-align: top;\n",
       "    }\n",
       "\n",
       "    .dataframe thead th {\n",
       "        text-align: right;\n",
       "    }\n",
       "</style>\n",
       "<table border=\"1\" class=\"dataframe\">\n",
       "  <thead>\n",
       "    <tr style=\"text-align: right;\">\n",
       "      <th></th>\n",
       "      <th>Prospect ID</th>\n",
       "      <th>Lead Number</th>\n",
       "      <th>Lead Origin</th>\n",
       "      <th>Lead Source</th>\n",
       "      <th>Do Not Email</th>\n",
       "      <th>Do Not Call</th>\n",
       "      <th>Converted</th>\n",
       "      <th>TotalVisits</th>\n",
       "      <th>Total Time Spent on Website</th>\n",
       "      <th>Page Views Per Visit</th>\n",
       "      <th>...</th>\n",
       "      <th>Get updates on DM Content</th>\n",
       "      <th>Lead Profile</th>\n",
       "      <th>City</th>\n",
       "      <th>Asymmetrique Activity Index</th>\n",
       "      <th>Asymmetrique Profile Index</th>\n",
       "      <th>Asymmetrique Activity Score</th>\n",
       "      <th>Asymmetrique Profile Score</th>\n",
       "      <th>I agree to pay the amount through cheque</th>\n",
       "      <th>A free copy of Mastering The Interview</th>\n",
       "      <th>Last Notable Activity</th>\n",
       "    </tr>\n",
       "  </thead>\n",
       "  <tbody>\n",
       "    <tr>\n",
       "      <th>0</th>\n",
       "      <td>7927b2df-8bba-4d29-b9a2-b6e0beafe620</td>\n",
       "      <td>660737</td>\n",
       "      <td>API</td>\n",
       "      <td>Olark Chat</td>\n",
       "      <td>No</td>\n",
       "      <td>No</td>\n",
       "      <td>0</td>\n",
       "      <td>0.0</td>\n",
       "      <td>0</td>\n",
       "      <td>0.0</td>\n",
       "      <td>...</td>\n",
       "      <td>No</td>\n",
       "      <td>Select</td>\n",
       "      <td>Select</td>\n",
       "      <td>02.Medium</td>\n",
       "      <td>02.Medium</td>\n",
       "      <td>15.0</td>\n",
       "      <td>15.0</td>\n",
       "      <td>No</td>\n",
       "      <td>No</td>\n",
       "      <td>Modified</td>\n",
       "    </tr>\n",
       "    <tr>\n",
       "      <th>1</th>\n",
       "      <td>2a272436-5132-4136-86fa-dcc88c88f482</td>\n",
       "      <td>660728</td>\n",
       "      <td>API</td>\n",
       "      <td>Organic Search</td>\n",
       "      <td>No</td>\n",
       "      <td>No</td>\n",
       "      <td>0</td>\n",
       "      <td>5.0</td>\n",
       "      <td>674</td>\n",
       "      <td>2.5</td>\n",
       "      <td>...</td>\n",
       "      <td>No</td>\n",
       "      <td>Select</td>\n",
       "      <td>Select</td>\n",
       "      <td>02.Medium</td>\n",
       "      <td>02.Medium</td>\n",
       "      <td>15.0</td>\n",
       "      <td>15.0</td>\n",
       "      <td>No</td>\n",
       "      <td>No</td>\n",
       "      <td>Email Opened</td>\n",
       "    </tr>\n",
       "    <tr>\n",
       "      <th>2</th>\n",
       "      <td>8cc8c611-a219-4f35-ad23-fdfd2656bd8a</td>\n",
       "      <td>660727</td>\n",
       "      <td>Landing Page Submission</td>\n",
       "      <td>Direct Traffic</td>\n",
       "      <td>No</td>\n",
       "      <td>No</td>\n",
       "      <td>1</td>\n",
       "      <td>2.0</td>\n",
       "      <td>1532</td>\n",
       "      <td>2.0</td>\n",
       "      <td>...</td>\n",
       "      <td>No</td>\n",
       "      <td>Potential Lead</td>\n",
       "      <td>Mumbai</td>\n",
       "      <td>02.Medium</td>\n",
       "      <td>01.High</td>\n",
       "      <td>14.0</td>\n",
       "      <td>20.0</td>\n",
       "      <td>No</td>\n",
       "      <td>Yes</td>\n",
       "      <td>Email Opened</td>\n",
       "    </tr>\n",
       "    <tr>\n",
       "      <th>3</th>\n",
       "      <td>0cc2df48-7cf4-4e39-9de9-19797f9b38cc</td>\n",
       "      <td>660719</td>\n",
       "      <td>Landing Page Submission</td>\n",
       "      <td>Direct Traffic</td>\n",
       "      <td>No</td>\n",
       "      <td>No</td>\n",
       "      <td>0</td>\n",
       "      <td>1.0</td>\n",
       "      <td>305</td>\n",
       "      <td>1.0</td>\n",
       "      <td>...</td>\n",
       "      <td>No</td>\n",
       "      <td>Select</td>\n",
       "      <td>Mumbai</td>\n",
       "      <td>02.Medium</td>\n",
       "      <td>01.High</td>\n",
       "      <td>13.0</td>\n",
       "      <td>17.0</td>\n",
       "      <td>No</td>\n",
       "      <td>No</td>\n",
       "      <td>Modified</td>\n",
       "    </tr>\n",
       "    <tr>\n",
       "      <th>4</th>\n",
       "      <td>3256f628-e534-4826-9d63-4a8b88782852</td>\n",
       "      <td>660681</td>\n",
       "      <td>Landing Page Submission</td>\n",
       "      <td>Google</td>\n",
       "      <td>No</td>\n",
       "      <td>No</td>\n",
       "      <td>1</td>\n",
       "      <td>2.0</td>\n",
       "      <td>1428</td>\n",
       "      <td>1.0</td>\n",
       "      <td>...</td>\n",
       "      <td>No</td>\n",
       "      <td>Select</td>\n",
       "      <td>Mumbai</td>\n",
       "      <td>02.Medium</td>\n",
       "      <td>01.High</td>\n",
       "      <td>15.0</td>\n",
       "      <td>18.0</td>\n",
       "      <td>No</td>\n",
       "      <td>No</td>\n",
       "      <td>Modified</td>\n",
       "    </tr>\n",
       "  </tbody>\n",
       "</table>\n",
       "<p>5 rows × 37 columns</p>\n",
       "</div>"
      ],
      "text/plain": [
       "                            Prospect ID  Lead Number              Lead Origin  \\\n",
       "0  7927b2df-8bba-4d29-b9a2-b6e0beafe620       660737                      API   \n",
       "1  2a272436-5132-4136-86fa-dcc88c88f482       660728                      API   \n",
       "2  8cc8c611-a219-4f35-ad23-fdfd2656bd8a       660727  Landing Page Submission   \n",
       "3  0cc2df48-7cf4-4e39-9de9-19797f9b38cc       660719  Landing Page Submission   \n",
       "4  3256f628-e534-4826-9d63-4a8b88782852       660681  Landing Page Submission   \n",
       "\n",
       "      Lead Source Do Not Email Do Not Call  Converted  TotalVisits  \\\n",
       "0      Olark Chat           No          No          0          0.0   \n",
       "1  Organic Search           No          No          0          5.0   \n",
       "2  Direct Traffic           No          No          1          2.0   \n",
       "3  Direct Traffic           No          No          0          1.0   \n",
       "4          Google           No          No          1          2.0   \n",
       "\n",
       "   Total Time Spent on Website  Page Views Per Visit  ...  \\\n",
       "0                            0                   0.0  ...   \n",
       "1                          674                   2.5  ...   \n",
       "2                         1532                   2.0  ...   \n",
       "3                          305                   1.0  ...   \n",
       "4                         1428                   1.0  ...   \n",
       "\n",
       "  Get updates on DM Content    Lead Profile    City  \\\n",
       "0                        No          Select  Select   \n",
       "1                        No          Select  Select   \n",
       "2                        No  Potential Lead  Mumbai   \n",
       "3                        No          Select  Mumbai   \n",
       "4                        No          Select  Mumbai   \n",
       "\n",
       "  Asymmetrique Activity Index Asymmetrique Profile Index  \\\n",
       "0                   02.Medium                  02.Medium   \n",
       "1                   02.Medium                  02.Medium   \n",
       "2                   02.Medium                    01.High   \n",
       "3                   02.Medium                    01.High   \n",
       "4                   02.Medium                    01.High   \n",
       "\n",
       "  Asymmetrique Activity Score Asymmetrique Profile Score  \\\n",
       "0                        15.0                       15.0   \n",
       "1                        15.0                       15.0   \n",
       "2                        14.0                       20.0   \n",
       "3                        13.0                       17.0   \n",
       "4                        15.0                       18.0   \n",
       "\n",
       "  I agree to pay the amount through cheque  \\\n",
       "0                                       No   \n",
       "1                                       No   \n",
       "2                                       No   \n",
       "3                                       No   \n",
       "4                                       No   \n",
       "\n",
       "  A free copy of Mastering The Interview Last Notable Activity  \n",
       "0                                     No              Modified  \n",
       "1                                     No          Email Opened  \n",
       "2                                    Yes          Email Opened  \n",
       "3                                     No              Modified  \n",
       "4                                     No              Modified  \n",
       "\n",
       "[5 rows x 37 columns]"
      ]
     },
     "execution_count": 3,
     "metadata": {},
     "output_type": "execute_result"
    }
   ],
   "source": [
    "#Reading dataset\n",
    "lead = pd.read_csv(r\"C:\\Users\\SIBIL\\Downloads\\Assignment\\Leads.csv\")\n",
    "lead.head()"
   ]
  },
  {
   "cell_type": "code",
   "execution_count": 4,
   "id": "801ac767",
   "metadata": {},
   "outputs": [
    {
     "data": {
      "text/plain": [
       "(9240, 37)"
      ]
     },
     "execution_count": 4,
     "metadata": {},
     "output_type": "execute_result"
    }
   ],
   "source": [
    "lead.shape"
   ]
  },
  {
   "cell_type": "code",
   "execution_count": 5,
   "id": "73b9e0ef",
   "metadata": {},
   "outputs": [
    {
     "data": {
      "text/plain": [
       "<bound method NDFrame.describe of                                Prospect ID  Lead Number  \\\n",
       "0     7927b2df-8bba-4d29-b9a2-b6e0beafe620       660737   \n",
       "1     2a272436-5132-4136-86fa-dcc88c88f482       660728   \n",
       "2     8cc8c611-a219-4f35-ad23-fdfd2656bd8a       660727   \n",
       "3     0cc2df48-7cf4-4e39-9de9-19797f9b38cc       660719   \n",
       "4     3256f628-e534-4826-9d63-4a8b88782852       660681   \n",
       "...                                    ...          ...   \n",
       "9235  19d6451e-fcd6-407c-b83b-48e1af805ea9       579564   \n",
       "9236  82a7005b-7196-4d56-95ce-a79f937a158d       579546   \n",
       "9237  aac550fe-a586-452d-8d3c-f1b62c94e02c       579545   \n",
       "9238  5330a7d1-2f2b-4df4-85d6-64ca2f6b95b9       579538   \n",
       "9239  571b5c8e-a5b2-4d57-8574-f2ffb06fdeff       579533   \n",
       "\n",
       "                  Lead Origin     Lead Source Do Not Email Do Not Call  \\\n",
       "0                         API      Olark Chat           No          No   \n",
       "1                         API  Organic Search           No          No   \n",
       "2     Landing Page Submission  Direct Traffic           No          No   \n",
       "3     Landing Page Submission  Direct Traffic           No          No   \n",
       "4     Landing Page Submission          Google           No          No   \n",
       "...                       ...             ...          ...         ...   \n",
       "9235  Landing Page Submission  Direct Traffic          Yes          No   \n",
       "9236  Landing Page Submission  Direct Traffic           No          No   \n",
       "9237  Landing Page Submission  Direct Traffic          Yes          No   \n",
       "9238  Landing Page Submission          Google           No          No   \n",
       "9239  Landing Page Submission  Direct Traffic           No          No   \n",
       "\n",
       "      Converted  TotalVisits  Total Time Spent on Website  \\\n",
       "0             0          0.0                            0   \n",
       "1             0          5.0                          674   \n",
       "2             1          2.0                         1532   \n",
       "3             0          1.0                          305   \n",
       "4             1          2.0                         1428   \n",
       "...         ...          ...                          ...   \n",
       "9235          1          8.0                         1845   \n",
       "9236          0          2.0                          238   \n",
       "9237          0          2.0                          199   \n",
       "9238          1          3.0                          499   \n",
       "9239          1          6.0                         1279   \n",
       "\n",
       "      Page Views Per Visit  ... Get updates on DM Content    Lead Profile  \\\n",
       "0                     0.00  ...                        No          Select   \n",
       "1                     2.50  ...                        No          Select   \n",
       "2                     2.00  ...                        No  Potential Lead   \n",
       "3                     1.00  ...                        No          Select   \n",
       "4                     1.00  ...                        No          Select   \n",
       "...                    ...  ...                       ...             ...   \n",
       "9235                  2.67  ...                        No  Potential Lead   \n",
       "9236                  2.00  ...                        No  Potential Lead   \n",
       "9237                  2.00  ...                        No  Potential Lead   \n",
       "9238                  3.00  ...                        No             NaN   \n",
       "9239                  3.00  ...                        No  Potential Lead   \n",
       "\n",
       "                    City Asymmetrique Activity Index  \\\n",
       "0                 Select                   02.Medium   \n",
       "1                 Select                   02.Medium   \n",
       "2                 Mumbai                   02.Medium   \n",
       "3                 Mumbai                   02.Medium   \n",
       "4                 Mumbai                   02.Medium   \n",
       "...                  ...                         ...   \n",
       "9235              Mumbai                   02.Medium   \n",
       "9236              Mumbai                   02.Medium   \n",
       "9237              Mumbai                   02.Medium   \n",
       "9238  Other Metro Cities                   02.Medium   \n",
       "9239        Other Cities                   02.Medium   \n",
       "\n",
       "     Asymmetrique Profile Index Asymmetrique Activity Score  \\\n",
       "0                     02.Medium                        15.0   \n",
       "1                     02.Medium                        15.0   \n",
       "2                       01.High                        14.0   \n",
       "3                       01.High                        13.0   \n",
       "4                       01.High                        15.0   \n",
       "...                         ...                         ...   \n",
       "9235                    01.High                        15.0   \n",
       "9236                    01.High                        14.0   \n",
       "9237                    01.High                        13.0   \n",
       "9238                  02.Medium                        15.0   \n",
       "9239                    01.High                        15.0   \n",
       "\n",
       "     Asymmetrique Profile Score I agree to pay the amount through cheque  \\\n",
       "0                          15.0                                       No   \n",
       "1                          15.0                                       No   \n",
       "2                          20.0                                       No   \n",
       "3                          17.0                                       No   \n",
       "4                          18.0                                       No   \n",
       "...                         ...                                      ...   \n",
       "9235                       17.0                                       No   \n",
       "9236                       19.0                                       No   \n",
       "9237                       20.0                                       No   \n",
       "9238                       16.0                                       No   \n",
       "9239                       18.0                                       No   \n",
       "\n",
       "     A free copy of Mastering The Interview Last Notable Activity  \n",
       "0                                        No              Modified  \n",
       "1                                        No          Email Opened  \n",
       "2                                       Yes          Email Opened  \n",
       "3                                        No              Modified  \n",
       "4                                        No              Modified  \n",
       "...                                     ...                   ...  \n",
       "9235                                     No     Email Marked Spam  \n",
       "9236                                    Yes              SMS Sent  \n",
       "9237                                    Yes              SMS Sent  \n",
       "9238                                     No              SMS Sent  \n",
       "9239                                    Yes              Modified  \n",
       "\n",
       "[9240 rows x 37 columns]>"
      ]
     },
     "execution_count": 5,
     "metadata": {},
     "output_type": "execute_result"
    }
   ],
   "source": [
    "lead.describe"
   ]
  },
  {
   "cell_type": "code",
   "execution_count": 6,
   "id": "197ca1ff",
   "metadata": {},
   "outputs": [
    {
     "data": {
      "text/plain": [
       "Prospect ID                                       object\n",
       "Lead Number                                        int64\n",
       "Lead Origin                                       object\n",
       "Lead Source                                       object\n",
       "Do Not Email                                      object\n",
       "Do Not Call                                       object\n",
       "Converted                                          int64\n",
       "TotalVisits                                      float64\n",
       "Total Time Spent on Website                        int64\n",
       "Page Views Per Visit                             float64\n",
       "Last Activity                                     object\n",
       "Country                                           object\n",
       "Specialization                                    object\n",
       "How did you hear about X Education                object\n",
       "What is your current occupation                   object\n",
       "What matters most to you in choosing a course     object\n",
       "Search                                            object\n",
       "Magazine                                          object\n",
       "Newspaper Article                                 object\n",
       "X Education Forums                                object\n",
       "Newspaper                                         object\n",
       "Digital Advertisement                             object\n",
       "Through Recommendations                           object\n",
       "Receive More Updates About Our Courses            object\n",
       "Tags                                              object\n",
       "Lead Quality                                      object\n",
       "Update me on Supply Chain Content                 object\n",
       "Get updates on DM Content                         object\n",
       "Lead Profile                                      object\n",
       "City                                              object\n",
       "Asymmetrique Activity Index                       object\n",
       "Asymmetrique Profile Index                        object\n",
       "Asymmetrique Activity Score                      float64\n",
       "Asymmetrique Profile Score                       float64\n",
       "I agree to pay the amount through cheque          object\n",
       "A free copy of Mastering The Interview            object\n",
       "Last Notable Activity                             object\n",
       "dtype: object"
      ]
     },
     "execution_count": 6,
     "metadata": {},
     "output_type": "execute_result"
    }
   ],
   "source": [
    "lead.dtypes"
   ]
  },
  {
   "cell_type": "markdown",
   "id": "06d64627",
   "metadata": {},
   "source": [
    "#### Step 2: Data Cleaning and Manipulation"
   ]
  },
  {
   "cell_type": "code",
   "execution_count": 7,
   "id": "38f5d6b4",
   "metadata": {},
   "outputs": [
    {
     "data": {
      "text/plain": [
       "Prospect ID                                         0\n",
       "Lead Number                                         0\n",
       "Lead Origin                                         0\n",
       "Lead Source                                        36\n",
       "Do Not Email                                        0\n",
       "Do Not Call                                         0\n",
       "Converted                                           0\n",
       "TotalVisits                                       137\n",
       "Total Time Spent on Website                         0\n",
       "Page Views Per Visit                              137\n",
       "Last Activity                                     103\n",
       "Country                                          2461\n",
       "Specialization                                   1438\n",
       "How did you hear about X Education               2207\n",
       "What is your current occupation                  2690\n",
       "What matters most to you in choosing a course    2709\n",
       "Search                                              0\n",
       "Magazine                                            0\n",
       "Newspaper Article                                   0\n",
       "X Education Forums                                  0\n",
       "Newspaper                                           0\n",
       "Digital Advertisement                               0\n",
       "Through Recommendations                             0\n",
       "Receive More Updates About Our Courses              0\n",
       "Tags                                             3353\n",
       "Lead Quality                                     4767\n",
       "Update me on Supply Chain Content                   0\n",
       "Get updates on DM Content                           0\n",
       "Lead Profile                                     2709\n",
       "City                                             1420\n",
       "Asymmetrique Activity Index                      4218\n",
       "Asymmetrique Profile Index                       4218\n",
       "Asymmetrique Activity Score                      4218\n",
       "Asymmetrique Profile Score                       4218\n",
       "I agree to pay the amount through cheque            0\n",
       "A free copy of Mastering The Interview              0\n",
       "Last Notable Activity                               0\n",
       "dtype: int64"
      ]
     },
     "execution_count": 7,
     "metadata": {},
     "output_type": "execute_result"
    }
   ],
   "source": [
    "#Checking Missing values on the data set:\n",
    "lead.isnull().sum()"
   ]
  },
  {
   "cell_type": "code",
   "execution_count": 8,
   "id": "105bf8eb",
   "metadata": {},
   "outputs": [
    {
     "data": {
      "text/plain": [
       "Prospect ID                                       0.000000\n",
       "Lead Number                                       0.000000\n",
       "Lead Origin                                       0.000000\n",
       "Lead Source                                       0.389610\n",
       "Do Not Email                                      0.000000\n",
       "Do Not Call                                       0.000000\n",
       "Converted                                         0.000000\n",
       "TotalVisits                                       1.482684\n",
       "Total Time Spent on Website                       0.000000\n",
       "Page Views Per Visit                              1.482684\n",
       "Last Activity                                     1.114719\n",
       "Country                                          26.634199\n",
       "Specialization                                   15.562771\n",
       "How did you hear about X Education               23.885281\n",
       "What is your current occupation                  29.112554\n",
       "What matters most to you in choosing a course    29.318182\n",
       "Search                                            0.000000\n",
       "Magazine                                          0.000000\n",
       "Newspaper Article                                 0.000000\n",
       "X Education Forums                                0.000000\n",
       "Newspaper                                         0.000000\n",
       "Digital Advertisement                             0.000000\n",
       "Through Recommendations                           0.000000\n",
       "Receive More Updates About Our Courses            0.000000\n",
       "Tags                                             36.287879\n",
       "Lead Quality                                     51.590909\n",
       "Update me on Supply Chain Content                 0.000000\n",
       "Get updates on DM Content                         0.000000\n",
       "Lead Profile                                     29.318182\n",
       "City                                             15.367965\n",
       "Asymmetrique Activity Index                      45.649351\n",
       "Asymmetrique Profile Index                       45.649351\n",
       "Asymmetrique Activity Score                      45.649351\n",
       "Asymmetrique Profile Score                       45.649351\n",
       "I agree to pay the amount through cheque          0.000000\n",
       "A free copy of Mastering The Interview            0.000000\n",
       "Last Notable Activity                             0.000000\n",
       "dtype: float64"
      ]
     },
     "execution_count": 8,
     "metadata": {},
     "output_type": "execute_result"
    }
   ],
   "source": [
    "#checking percentage of Null values:\n",
    "missed_percent = lead.isnull().sum()/len(lead)*100\n",
    "missed_percent"
   ]
  },
  {
   "cell_type": "code",
   "execution_count": 9,
   "id": "89bbed16",
   "metadata": {},
   "outputs": [],
   "source": [
    "#Making the boxes where select option to null:\n",
    "lead =lead.replace('Select',np.nan)"
   ]
  },
  {
   "cell_type": "code",
   "execution_count": 10,
   "id": "e73511d2",
   "metadata": {},
   "outputs": [
    {
     "data": {
      "text/plain": [
       "Prospect ID                                       0.000000\n",
       "Lead Number                                       0.000000\n",
       "Lead Origin                                       0.000000\n",
       "Lead Source                                       0.389610\n",
       "Do Not Email                                      0.000000\n",
       "Do Not Call                                       0.000000\n",
       "Converted                                         0.000000\n",
       "TotalVisits                                       1.482684\n",
       "Total Time Spent on Website                       0.000000\n",
       "Page Views Per Visit                              1.482684\n",
       "Last Activity                                     1.114719\n",
       "Country                                          26.634199\n",
       "Specialization                                   36.580087\n",
       "How did you hear about X Education               78.463203\n",
       "What is your current occupation                  29.112554\n",
       "What matters most to you in choosing a course    29.318182\n",
       "Search                                            0.000000\n",
       "Magazine                                          0.000000\n",
       "Newspaper Article                                 0.000000\n",
       "X Education Forums                                0.000000\n",
       "Newspaper                                         0.000000\n",
       "Digital Advertisement                             0.000000\n",
       "Through Recommendations                           0.000000\n",
       "Receive More Updates About Our Courses            0.000000\n",
       "Tags                                             36.287879\n",
       "Lead Quality                                     51.590909\n",
       "Update me on Supply Chain Content                 0.000000\n",
       "Get updates on DM Content                         0.000000\n",
       "Lead Profile                                     74.188312\n",
       "City                                             39.707792\n",
       "Asymmetrique Activity Index                      45.649351\n",
       "Asymmetrique Profile Index                       45.649351\n",
       "Asymmetrique Activity Score                      45.649351\n",
       "Asymmetrique Profile Score                       45.649351\n",
       "I agree to pay the amount through cheque          0.000000\n",
       "A free copy of Mastering The Interview            0.000000\n",
       "Last Notable Activity                             0.000000\n",
       "dtype: float64"
      ]
     },
     "execution_count": 10,
     "metadata": {},
     "output_type": "execute_result"
    }
   ],
   "source": [
    "#Checking percentage of missing values:-\n",
    "missed_percent = lead.isnull().sum()/len(lead)*100\n",
    "missed_percent"
   ]
  },
  {
   "cell_type": "code",
   "execution_count": 11,
   "id": "984f561a",
   "metadata": {},
   "outputs": [
    {
     "data": {
      "text/plain": [
       "How did you hear about X Education    78.463203\n",
       "Lead Profile                          74.188312\n",
       "Lead Quality                          51.590909\n",
       "Asymmetrique Activity Index           45.649351\n",
       "Asymmetrique Profile Index            45.649351\n",
       "Asymmetrique Activity Score           45.649351\n",
       "Asymmetrique Profile Score            45.649351\n",
       "dtype: float64"
      ]
     },
     "execution_count": 11,
     "metadata": {},
     "output_type": "execute_result"
    }
   ],
   "source": [
    "#Checking all columns that has more than 40% missing values:\n",
    "#columns with null values more than 45%:\n",
    "x = missed_percent[missed_percent>=40]\n",
    "x.sort_values(ascending = False, inplace = True)\n",
    "x"
   ]
  },
  {
   "cell_type": "code",
   "execution_count": 12,
   "id": "9dcaa6da",
   "metadata": {},
   "outputs": [],
   "source": [
    "#Dropping all columns where null values more than 40%:\n",
    "for i in x.index:\n",
    "    lead.drop(i, axis=1, inplace = True)"
   ]
  },
  {
   "cell_type": "code",
   "execution_count": 13,
   "id": "abd7ad34",
   "metadata": {},
   "outputs": [
    {
     "data": {
      "text/plain": [
       "City                                             39.707792\n",
       "Specialization                                   36.580087\n",
       "Tags                                             36.287879\n",
       "What matters most to you in choosing a course    29.318182\n",
       "What is your current occupation                  29.112554\n",
       "Country                                          26.634199\n",
       "Page Views Per Visit                              1.482684\n",
       "TotalVisits                                       1.482684\n",
       "Last Activity                                     1.114719\n",
       "Lead Source                                       0.389610\n",
       "Through Recommendations                           0.000000\n",
       "Receive More Updates About Our Courses            0.000000\n",
       "Prospect ID                                       0.000000\n",
       "Newspaper                                         0.000000\n",
       "Update me on Supply Chain Content                 0.000000\n",
       "Get updates on DM Content                         0.000000\n",
       "I agree to pay the amount through cheque          0.000000\n",
       "A free copy of Mastering The Interview            0.000000\n",
       "Digital Advertisement                             0.000000\n",
       "Search                                            0.000000\n",
       "X Education Forums                                0.000000\n",
       "Newspaper Article                                 0.000000\n",
       "Magazine                                          0.000000\n",
       "Lead Number                                       0.000000\n",
       "Total Time Spent on Website                       0.000000\n",
       "Converted                                         0.000000\n",
       "Do Not Call                                       0.000000\n",
       "Do Not Email                                      0.000000\n",
       "Lead Origin                                       0.000000\n",
       "Last Notable Activity                             0.000000\n",
       "dtype: float64"
      ]
     },
     "execution_count": 13,
     "metadata": {},
     "output_type": "execute_result"
    }
   ],
   "source": [
    "missed_percent = lead.isnull().sum()/len(lead)*100\n",
    "missed_percent.sort_values(ascending = False)"
   ]
  },
  {
   "cell_type": "code",
   "execution_count": 14,
   "id": "8871db95",
   "metadata": {},
   "outputs": [
    {
     "data": {
      "text/plain": [
       "Mumbai                         3222\n",
       "Thane & Outskirts               752\n",
       "Other Cities                    686\n",
       "Other Cities of Maharashtra     457\n",
       "Other Metro Cities              380\n",
       "Tier II Cities                   74\n",
       "Name: City, dtype: int64"
      ]
     },
     "execution_count": 14,
     "metadata": {},
     "output_type": "execute_result"
    }
   ],
   "source": [
    "#Checking columns with other missing values:-\n",
    "#City:\n",
    "lead[\"City\"].value_counts()"
   ]
  },
  {
   "cell_type": "code",
   "execution_count": 15,
   "id": "c83ad533",
   "metadata": {},
   "outputs": [],
   "source": [
    "#Imputing Mumbai on null values:\n",
    "lead['City']=lead['City'].replace(np.nan,'Mumbai')"
   ]
  },
  {
   "cell_type": "code",
   "execution_count": 16,
   "id": "59308c81",
   "metadata": {},
   "outputs": [
    {
     "data": {
      "text/plain": [
       "Finance Management                   976\n",
       "Human Resource Management            848\n",
       "Marketing Management                 838\n",
       "Operations Management                503\n",
       "Business Administration              403\n",
       "IT Projects Management               366\n",
       "Supply Chain Management              349\n",
       "Banking, Investment And Insurance    338\n",
       "Travel and Tourism                   203\n",
       "Media and Advertising                203\n",
       "International Business               178\n",
       "Healthcare Management                159\n",
       "Hospitality Management               114\n",
       "E-COMMERCE                           112\n",
       "Retail Management                    100\n",
       "Rural and Agribusiness                73\n",
       "E-Business                            57\n",
       "Services Excellence                   40\n",
       "Name: Specialization, dtype: int64"
      ]
     },
     "execution_count": 16,
     "metadata": {},
     "output_type": "execute_result"
    }
   ],
   "source": [
    "#Specialization:\n",
    "lead[\"Specialization\"].value_counts()"
   ]
  },
  {
   "cell_type": "code",
   "execution_count": 17,
   "id": "9846655e",
   "metadata": {},
   "outputs": [],
   "source": [
    "#Checking Null values and updating it with \"Not Specified\":\n",
    "lead['Specialization']=lead['Specialization'].replace(['Finance Management','Human Resource Management','Marketing Management','Operations Management',\n",
    "                                                 'IT Projects Management','Supply Chain Management','Healthcare Management','Hospitality Management',\n",
    "                                                 'Retail Management'],'Management_Specializations')\n",
    "lead['Specialization'] =lead['Specialization'].replace(np.nan,'Not_specified')"
   ]
  },
  {
   "cell_type": "code",
   "execution_count": 18,
   "id": "df0e7b98",
   "metadata": {},
   "outputs": [
    {
     "data": {
      "text/plain": [
       "Will revert after reading the email                  2072\n",
       "Ringing                                              1203\n",
       "Interested in other courses                           513\n",
       "Already a student                                     465\n",
       "Closed by Horizzon                                    358\n",
       "switched off                                          240\n",
       "Busy                                                  186\n",
       "Lost to EINS                                          175\n",
       "Not doing further education                           145\n",
       "Interested  in full time MBA                          117\n",
       "Graduation in progress                                111\n",
       "invalid number                                         83\n",
       "Diploma holder (Not Eligible)                          63\n",
       "wrong number given                                     47\n",
       "opp hangup                                             33\n",
       "number not provided                                    27\n",
       "in touch with EINS                                     12\n",
       "Lost to Others                                          7\n",
       "Still Thinking                                          6\n",
       "Want to take admission but has financial problems       6\n",
       "In confusion whether part time or DLP                   5\n",
       "Interested in Next batch                                5\n",
       "Lateral student                                         3\n",
       "Shall take in the next coming month                     2\n",
       "University not recognized                               2\n",
       "Recognition issue (DEC approval)                        1\n",
       "Name: Tags, dtype: int64"
      ]
     },
     "execution_count": 18,
     "metadata": {},
     "output_type": "execute_result"
    }
   ],
   "source": [
    "#Tags:\n",
    "lead[\"Tags\"].value_counts()"
   ]
  },
  {
   "cell_type": "code",
   "execution_count": 19,
   "id": "6c79cdd3",
   "metadata": {},
   "outputs": [],
   "source": [
    "lead['Tags']=lead['Tags'].replace(['switched off','Busy','Lost to EINS','Not doing further education','Interested  in full time MBA'\n",
    "                              ,'Graduation in progress','invalid number','Diploma holder (Not Eligible','wrong number given','opp hangup'\n",
    "                              ,'number not provided','in touch with EINS','Lost to Others','Still Thinking','Want to take admission but has financial problems','In confusion whether part time or DLP','Interested in Next batch','Lateral student','Shall take in the next coming month',\n",
    "                              'University not recognized','Recognition issue (DEC approval)','Diploma holder (Not Eligible)'],'Others')"
   ]
  },
  {
   "cell_type": "code",
   "execution_count": 20,
   "id": "82e50770",
   "metadata": {},
   "outputs": [],
   "source": [
    "lead['Tags']=lead['Tags'].replace(np.nan,'Not Specified')"
   ]
  },
  {
   "cell_type": "code",
   "execution_count": 21,
   "id": "945d10f4",
   "metadata": {},
   "outputs": [
    {
     "data": {
      "text/plain": [
       "Not Specified                          3353\n",
       "Will revert after reading the email    2072\n",
       "Others                                 1276\n",
       "Ringing                                1203\n",
       "Interested in other courses             513\n",
       "Already a student                       465\n",
       "Closed by Horizzon                      358\n",
       "Name: Tags, dtype: int64"
      ]
     },
     "execution_count": 21,
     "metadata": {},
     "output_type": "execute_result"
    }
   ],
   "source": [
    "#Imputing all other reasons to not specified:\n",
    "lead[\"Tags\"].value_counts()"
   ]
  },
  {
   "cell_type": "code",
   "execution_count": 22,
   "id": "c2fdb172",
   "metadata": {},
   "outputs": [
    {
     "data": {
      "text/plain": [
       "Unemployed              5600\n",
       "Working Professional     706\n",
       "Student                  210\n",
       "Other                     16\n",
       "Housewife                 10\n",
       "Businessman                8\n",
       "Name: What is your current occupation, dtype: int64"
      ]
     },
     "execution_count": 22,
     "metadata": {},
     "output_type": "execute_result"
    }
   ],
   "source": [
    "#What is your current occupation:\n",
    "lead[\"What is your current occupation\"].value_counts()"
   ]
  },
  {
   "cell_type": "code",
   "execution_count": 23,
   "id": "85f23ca4",
   "metadata": {},
   "outputs": [],
   "source": [
    "lead['What is your current occupation']=lead['What is your current occupation'].replace(['Housewife','Businessman','Other'],'Others')"
   ]
  },
  {
   "cell_type": "code",
   "execution_count": 24,
   "id": "510c874e",
   "metadata": {},
   "outputs": [],
   "source": [
    "#Imputing Columns with null values to most occured profession:\n",
    "lead['What is your current occupation'] =lead['What is your current occupation'].replace(np.nan,'Unemployed')\n"
   ]
  },
  {
   "cell_type": "code",
   "execution_count": 25,
   "id": "1a1fff0a",
   "metadata": {},
   "outputs": [
    {
     "data": {
      "text/plain": [
       "Better Career Prospects      6528\n",
       "Flexibility & Convenience       2\n",
       "Other                           1\n",
       "Name: What matters most to you in choosing a course, dtype: int64"
      ]
     },
     "execution_count": 25,
     "metadata": {},
     "output_type": "execute_result"
    }
   ],
   "source": [
    "lead[\"What matters most to you in choosing a course\"].value_counts()"
   ]
  },
  {
   "cell_type": "code",
   "execution_count": 26,
   "id": "317623fd",
   "metadata": {},
   "outputs": [
    {
     "data": {
      "text/plain": [
       "India                   6492\n",
       "United States             69\n",
       "United Arab Emirates      53\n",
       "Singapore                 24\n",
       "Saudi Arabia              21\n",
       "United Kingdom            15\n",
       "Australia                 13\n",
       "Qatar                     10\n",
       "Hong Kong                  7\n",
       "Bahrain                    7\n",
       "Oman                       6\n",
       "France                     6\n",
       "unknown                    5\n",
       "South Africa               4\n",
       "Nigeria                    4\n",
       "Germany                    4\n",
       "Kuwait                     4\n",
       "Canada                     4\n",
       "Sweden                     3\n",
       "China                      2\n",
       "Asia/Pacific Region        2\n",
       "Uganda                     2\n",
       "Bangladesh                 2\n",
       "Italy                      2\n",
       "Belgium                    2\n",
       "Netherlands                2\n",
       "Ghana                      2\n",
       "Philippines                2\n",
       "Russia                     1\n",
       "Switzerland                1\n",
       "Vietnam                    1\n",
       "Denmark                    1\n",
       "Tanzania                   1\n",
       "Liberia                    1\n",
       "Malaysia                   1\n",
       "Kenya                      1\n",
       "Sri Lanka                  1\n",
       "Indonesia                  1\n",
       "Name: Country, dtype: int64"
      ]
     },
     "execution_count": 26,
     "metadata": {},
     "output_type": "execute_result"
    }
   ],
   "source": [
    "lead[\"Country\"].value_counts()"
   ]
  },
  {
   "cell_type": "code",
   "execution_count": 27,
   "id": "3fb3ce2e",
   "metadata": {},
   "outputs": [],
   "source": [
    "#Dropping both variables as they are not useful in our analysis:\n",
    "lead.drop(['Country', \"What matters most to you in choosing a course\"], axis = 1, inplace = True)"
   ]
  },
  {
   "cell_type": "code",
   "execution_count": 28,
   "id": "3dddefa2",
   "metadata": {},
   "outputs": [
    {
     "data": {
      "text/plain": [
       "TotalVisits                                 1.482684\n",
       "Page Views Per Visit                        1.482684\n",
       "Last Activity                               1.114719\n",
       "Lead Source                                 0.389610\n",
       "Prospect ID                                 0.000000\n",
       "X Education Forums                          0.000000\n",
       "A free copy of Mastering The Interview      0.000000\n",
       "I agree to pay the amount through cheque    0.000000\n",
       "City                                        0.000000\n",
       "Get updates on DM Content                   0.000000\n",
       "Update me on Supply Chain Content           0.000000\n",
       "Tags                                        0.000000\n",
       "Receive More Updates About Our Courses      0.000000\n",
       "Through Recommendations                     0.000000\n",
       "Digital Advertisement                       0.000000\n",
       "Newspaper                                   0.000000\n",
       "Magazine                                    0.000000\n",
       "Newspaper Article                           0.000000\n",
       "Lead Number                                 0.000000\n",
       "Search                                      0.000000\n",
       "What is your current occupation             0.000000\n",
       "Specialization                              0.000000\n",
       "Total Time Spent on Website                 0.000000\n",
       "Converted                                   0.000000\n",
       "Do Not Call                                 0.000000\n",
       "Do Not Email                                0.000000\n",
       "Lead Origin                                 0.000000\n",
       "Last Notable Activity                       0.000000\n",
       "dtype: float64"
      ]
     },
     "execution_count": 28,
     "metadata": {},
     "output_type": "execute_result"
    }
   ],
   "source": [
    "missed_percent = lead.isnull().sum()/len(lead)*100\n",
    "missed_percent.sort_values(ascending = False)"
   ]
  },
  {
   "cell_type": "code",
   "execution_count": 29,
   "id": "c9a1d9ea",
   "metadata": {},
   "outputs": [
    {
     "data": {
      "text/plain": [
       "0.0      2189\n",
       "2.0      1680\n",
       "3.0      1306\n",
       "4.0      1120\n",
       "5.0       783\n",
       "6.0       466\n",
       "1.0       395\n",
       "7.0       309\n",
       "8.0       224\n",
       "9.0       164\n",
       "10.0      114\n",
       "11.0       86\n",
       "13.0       48\n",
       "12.0       45\n",
       "14.0       36\n",
       "16.0       21\n",
       "15.0       18\n",
       "17.0       16\n",
       "18.0       15\n",
       "20.0       12\n",
       "19.0        9\n",
       "21.0        6\n",
       "23.0        6\n",
       "24.0        5\n",
       "25.0        5\n",
       "27.0        5\n",
       "22.0        3\n",
       "29.0        2\n",
       "28.0        2\n",
       "26.0        2\n",
       "141.0       1\n",
       "55.0        1\n",
       "30.0        1\n",
       "43.0        1\n",
       "74.0        1\n",
       "41.0        1\n",
       "54.0        1\n",
       "115.0       1\n",
       "251.0       1\n",
       "32.0        1\n",
       "42.0        1\n",
       "Name: TotalVisits, dtype: int64"
      ]
     },
     "execution_count": 29,
     "metadata": {},
     "output_type": "execute_result"
    }
   ],
   "source": [
    "#Total Visits:\n",
    "lead[\"TotalVisits\"].value_counts()"
   ]
  },
  {
   "cell_type": "code",
   "execution_count": 30,
   "id": "aab95760",
   "metadata": {},
   "outputs": [
    {
     "data": {
      "text/plain": [
       "3.0"
      ]
     },
     "execution_count": 30,
     "metadata": {},
     "output_type": "execute_result"
    }
   ],
   "source": [
    "#CHecking Median:\n",
    "lead.TotalVisits.median()"
   ]
  },
  {
   "cell_type": "code",
   "execution_count": 31,
   "id": "b0ed48ab",
   "metadata": {},
   "outputs": [],
   "source": [
    "# imputing the null values in TotalVisits by the median value 3.0\n",
    "lead['TotalVisits'] = lead['TotalVisits'].replace(np.nan, lead['TotalVisits'].median())"
   ]
  },
  {
   "cell_type": "code",
   "execution_count": 32,
   "id": "902685ad",
   "metadata": {},
   "outputs": [
    {
     "data": {
      "text/plain": [
       "0.00    2189\n",
       "2.00    1795\n",
       "3.00    1196\n",
       "4.00     896\n",
       "1.00     651\n",
       "        ... \n",
       "3.43       1\n",
       "2.56       1\n",
       "6.33       1\n",
       "1.64       1\n",
       "2.08       1\n",
       "Name: Page Views Per Visit, Length: 114, dtype: int64"
      ]
     },
     "execution_count": 32,
     "metadata": {},
     "output_type": "execute_result"
    }
   ],
   "source": [
    "#Page Views Per Visit                        \n",
    "lead[\"Page Views Per Visit\"].value_counts()"
   ]
  },
  {
   "cell_type": "code",
   "execution_count": 33,
   "id": "ffd548d9",
   "metadata": {},
   "outputs": [
    {
     "data": {
      "text/plain": [
       "2.0"
      ]
     },
     "execution_count": 33,
     "metadata": {},
     "output_type": "execute_result"
    }
   ],
   "source": [
    "lead[\"Page Views Per Visit\"].median()"
   ]
  },
  {
   "cell_type": "code",
   "execution_count": 34,
   "id": "32a2b623",
   "metadata": {},
   "outputs": [],
   "source": [
    "## imputing the null values in Page Views per visit by the median value 3.0:lead['TotalVisits'] = lead['TotalVisits'].replace(np.nan, lead['TotalVisits'].median())\n",
    "lead['Page Views Per Visit'] = lead['Page Views Per Visit'].replace(np.nan, lead['Page Views Per Visit'].median())"
   ]
  },
  {
   "cell_type": "code",
   "execution_count": 35,
   "id": "1b5eb0ef",
   "metadata": {},
   "outputs": [
    {
     "data": {
      "text/plain": [
       "Email Opened                    3437\n",
       "SMS Sent                        2745\n",
       "Olark Chat Conversation          973\n",
       "Page Visited on Website          640\n",
       "Converted to Lead                428\n",
       "Email Bounced                    326\n",
       "Email Link Clicked               267\n",
       "Form Submitted on Website        116\n",
       "Unreachable                       93\n",
       "Unsubscribed                      61\n",
       "Had a Phone Conversation          30\n",
       "Approached upfront                 9\n",
       "View in browser link Clicked       6\n",
       "Email Received                     2\n",
       "Email Marked Spam                  2\n",
       "Visited Booth in Tradeshow         1\n",
       "Resubscribed to emails             1\n",
       "Name: Last Activity, dtype: int64"
      ]
     },
     "execution_count": 35,
     "metadata": {},
     "output_type": "execute_result"
    }
   ],
   "source": [
    "#Last Activity                               \n",
    "lead[\"Last Activity\"].value_counts()"
   ]
  },
  {
   "cell_type": "code",
   "execution_count": 36,
   "id": "dd9194bc",
   "metadata": {},
   "outputs": [],
   "source": [
    "#Replacing all values with most occured value:\n",
    "lead['Last Activity']=lead['Last Activity'].replace(['Unreachable','Unsubscribed','Had a Phone Conversation','Approached upfront','View in browser link Clicked',\n",
    "                            'Email Received','Email Marked Spam','Visited Booth in Tradeshow','Resubscribed to emails'],'Others')"
   ]
  },
  {
   "cell_type": "code",
   "execution_count": 37,
   "id": "dfd72151",
   "metadata": {},
   "outputs": [],
   "source": [
    "lead['Last Activity'] =lead['Last Activity'].replace(np.nan,'Email Opened')\n"
   ]
  },
  {
   "cell_type": "code",
   "execution_count": 38,
   "id": "1e6c6ba1",
   "metadata": {},
   "outputs": [
    {
     "data": {
      "text/plain": [
       "Google               2868\n",
       "Direct Traffic       2543\n",
       "Olark Chat           1755\n",
       "Organic Search       1154\n",
       "Reference             534\n",
       "Welingak Website      142\n",
       "Referral Sites        125\n",
       "Facebook               55\n",
       "bing                    6\n",
       "google                  5\n",
       "Click2call              4\n",
       "Press_Release           2\n",
       "Social Media            2\n",
       "Live Chat               2\n",
       "youtubechannel          1\n",
       "testone                 1\n",
       "Pay per Click Ads       1\n",
       "welearnblog_Home        1\n",
       "WeLearn                 1\n",
       "blog                    1\n",
       "NC_EDM                  1\n",
       "Name: Lead Source, dtype: int64"
      ]
     },
     "execution_count": 38,
     "metadata": {},
     "output_type": "execute_result"
    }
   ],
   "source": [
    "#Lead Source                                 \n",
    "lead[\"Lead Source\"].value_counts()"
   ]
  },
  {
   "cell_type": "code",
   "execution_count": 39,
   "id": "41620b11",
   "metadata": {},
   "outputs": [],
   "source": [
    "#Replacing null values with the most occured value:\n",
    "lead['Lead Source'] =lead['Lead Source'].replace(np.nan,'Google')\n",
    "lead['Lead Source']=lead['Lead Source'].replace('google','Google')\n",
    "lead['Lead Source']=lead['Lead Source'].replace(['Facebook','youtubechannel'],'Social Media ')\n",
    "lead['Lead Source']=lead['Lead Source'].replace(['bing','Click2call','Press_Release','Live Chat','testone','Pay per Click Ads',\n",
    "                                             'welearnblog_Home','WeLearn','blog','NC_EDM'],'Others')"
   ]
  },
  {
   "cell_type": "code",
   "execution_count": 40,
   "id": "d636e347",
   "metadata": {},
   "outputs": [
    {
     "data": {
      "text/plain": [
       "Prospect ID                                 0.0\n",
       "Lead Number                                 0.0\n",
       "A free copy of Mastering The Interview      0.0\n",
       "I agree to pay the amount through cheque    0.0\n",
       "City                                        0.0\n",
       "Get updates on DM Content                   0.0\n",
       "Update me on Supply Chain Content           0.0\n",
       "Tags                                        0.0\n",
       "Receive More Updates About Our Courses      0.0\n",
       "Through Recommendations                     0.0\n",
       "Digital Advertisement                       0.0\n",
       "Newspaper                                   0.0\n",
       "X Education Forums                          0.0\n",
       "Newspaper Article                           0.0\n",
       "Magazine                                    0.0\n",
       "Search                                      0.0\n",
       "What is your current occupation             0.0\n",
       "Specialization                              0.0\n",
       "Last Activity                               0.0\n",
       "Page Views Per Visit                        0.0\n",
       "Total Time Spent on Website                 0.0\n",
       "TotalVisits                                 0.0\n",
       "Converted                                   0.0\n",
       "Do Not Call                                 0.0\n",
       "Do Not Email                                0.0\n",
       "Lead Source                                 0.0\n",
       "Lead Origin                                 0.0\n",
       "Last Notable Activity                       0.0\n",
       "dtype: float64"
      ]
     },
     "execution_count": 40,
     "metadata": {},
     "output_type": "execute_result"
    }
   ],
   "source": [
    "#Checking if we left any null values:\n",
    "percent_miss = lead.isnull().sum()/len(lead)*100\n",
    "percent_miss.sort_values(ascending = False)"
   ]
  },
  {
   "cell_type": "code",
   "execution_count": 41,
   "id": "af52525b",
   "metadata": {},
   "outputs": [
    {
     "name": "stdout",
     "output_type": "stream",
     "text": [
      "No     8506\n",
      "Yes     734\n",
      "Name: Do Not Email, dtype: int64\n",
      "No     9238\n",
      "Yes       2\n",
      "Name: Do Not Call, dtype: int64\n",
      "No     9226\n",
      "Yes      14\n",
      "Name: Search, dtype: int64\n",
      "No    9240\n",
      "Name: Magazine, dtype: int64\n",
      "No     9238\n",
      "Yes       2\n",
      "Name: Newspaper Article, dtype: int64\n",
      "No     9239\n",
      "Yes       1\n",
      "Name: X Education Forums, dtype: int64\n",
      "No     9239\n",
      "Yes       1\n",
      "Name: Newspaper, dtype: int64\n",
      "No     9236\n",
      "Yes       4\n",
      "Name: Digital Advertisement, dtype: int64\n",
      "No     9233\n",
      "Yes       7\n",
      "Name: Through Recommendations, dtype: int64\n",
      "No    9240\n",
      "Name: Receive More Updates About Our Courses, dtype: int64\n",
      "No    9240\n",
      "Name: Update me on Supply Chain Content, dtype: int64\n",
      "No    9240\n",
      "Name: Get updates on DM Content, dtype: int64\n",
      "No    9240\n",
      "Name: I agree to pay the amount through cheque, dtype: int64\n",
      "No     6352\n",
      "Yes    2888\n",
      "Name: A free copy of Mastering The Interview, dtype: int64\n"
     ]
    }
   ],
   "source": [
    "list_lead=['Do Not Email','Do Not Call','Search','Magazine','Newspaper Article','X Education Forums',\n",
    "     'Newspaper','Digital Advertisement','Through Recommendations','Receive More Updates About Our Courses',\n",
    "    'Update me on Supply Chain Content','Get updates on DM Content','I agree to pay the amount through cheque'\n",
    "    ,'A free copy of Mastering The Interview']\n",
    "\n",
    "for i in list_lead:\n",
    "    print(lead[i].value_counts())"
   ]
  },
  {
   "cell_type": "code",
   "execution_count": 42,
   "id": "9328c98c",
   "metadata": {},
   "outputs": [],
   "source": [
    "#dropping columns which have only value no and it will be of no use for analysis\n",
    "lead=lead.drop(['Do Not Call','Search','Magazine','Newspaper Article','X Education Forums','Newspaper','Digital Advertisement'\n",
    "           ,'Through Recommendations','Receive More Updates About Our Courses'\n",
    "            ,'Update me on Supply Chain Content','Get updates on DM Content','I agree to pay the amount through cheque'\n",
    "           ,'Do Not Email','Last Notable Activity'],axis=1)"
   ]
  },
  {
   "cell_type": "code",
   "execution_count": 43,
   "id": "fcc490f9",
   "metadata": {},
   "outputs": [
    {
     "data": {
      "text/plain": [
       "Prospect ID                                object\n",
       "Lead Number                                 int64\n",
       "Lead Origin                                object\n",
       "Lead Source                                object\n",
       "Converted                                   int64\n",
       "TotalVisits                               float64\n",
       "Total Time Spent on Website                 int64\n",
       "Page Views Per Visit                      float64\n",
       "Last Activity                              object\n",
       "Specialization                             object\n",
       "What is your current occupation            object\n",
       "Tags                                       object\n",
       "City                                       object\n",
       "A free copy of Mastering The Interview     object\n",
       "dtype: object"
      ]
     },
     "execution_count": 43,
     "metadata": {},
     "output_type": "execute_result"
    }
   ],
   "source": [
    "lead.dtypes"
   ]
  },
  {
   "cell_type": "markdown",
   "id": "56938fb5",
   "metadata": {},
   "source": [
    "#### STEP-3: CHECKING OUTLIERS"
   ]
  },
  {
   "cell_type": "code",
   "execution_count": 44,
   "id": "d45105d8",
   "metadata": {},
   "outputs": [
    {
     "data": {
      "text/html": [
       "<div>\n",
       "<style scoped>\n",
       "    .dataframe tbody tr th:only-of-type {\n",
       "        vertical-align: middle;\n",
       "    }\n",
       "\n",
       "    .dataframe tbody tr th {\n",
       "        vertical-align: top;\n",
       "    }\n",
       "\n",
       "    .dataframe thead th {\n",
       "        text-align: right;\n",
       "    }\n",
       "</style>\n",
       "<table border=\"1\" class=\"dataframe\">\n",
       "  <thead>\n",
       "    <tr style=\"text-align: right;\">\n",
       "      <th></th>\n",
       "      <th>Lead Number</th>\n",
       "      <th>Converted</th>\n",
       "      <th>TotalVisits</th>\n",
       "      <th>Total Time Spent on Website</th>\n",
       "      <th>Page Views Per Visit</th>\n",
       "    </tr>\n",
       "  </thead>\n",
       "  <tbody>\n",
       "    <tr>\n",
       "      <th>count</th>\n",
       "      <td>9240.000000</td>\n",
       "      <td>9240.000000</td>\n",
       "      <td>9240.000000</td>\n",
       "      <td>9240.000000</td>\n",
       "      <td>9240.000000</td>\n",
       "    </tr>\n",
       "    <tr>\n",
       "      <th>mean</th>\n",
       "      <td>617188.435606</td>\n",
       "      <td>0.385390</td>\n",
       "      <td>3.438636</td>\n",
       "      <td>487.698268</td>\n",
       "      <td>2.357440</td>\n",
       "    </tr>\n",
       "    <tr>\n",
       "      <th>std</th>\n",
       "      <td>23405.995698</td>\n",
       "      <td>0.486714</td>\n",
       "      <td>4.819024</td>\n",
       "      <td>548.021466</td>\n",
       "      <td>2.145781</td>\n",
       "    </tr>\n",
       "    <tr>\n",
       "      <th>min</th>\n",
       "      <td>579533.000000</td>\n",
       "      <td>0.000000</td>\n",
       "      <td>0.000000</td>\n",
       "      <td>0.000000</td>\n",
       "      <td>0.000000</td>\n",
       "    </tr>\n",
       "    <tr>\n",
       "      <th>1%</th>\n",
       "      <td>580317.120000</td>\n",
       "      <td>0.000000</td>\n",
       "      <td>0.000000</td>\n",
       "      <td>0.000000</td>\n",
       "      <td>0.000000</td>\n",
       "    </tr>\n",
       "    <tr>\n",
       "      <th>5%</th>\n",
       "      <td>582869.900000</td>\n",
       "      <td>0.000000</td>\n",
       "      <td>0.000000</td>\n",
       "      <td>0.000000</td>\n",
       "      <td>0.000000</td>\n",
       "    </tr>\n",
       "    <tr>\n",
       "      <th>25%</th>\n",
       "      <td>596484.500000</td>\n",
       "      <td>0.000000</td>\n",
       "      <td>1.000000</td>\n",
       "      <td>12.000000</td>\n",
       "      <td>1.000000</td>\n",
       "    </tr>\n",
       "    <tr>\n",
       "      <th>50%</th>\n",
       "      <td>615479.000000</td>\n",
       "      <td>0.000000</td>\n",
       "      <td>3.000000</td>\n",
       "      <td>248.000000</td>\n",
       "      <td>2.000000</td>\n",
       "    </tr>\n",
       "    <tr>\n",
       "      <th>75%</th>\n",
       "      <td>637387.250000</td>\n",
       "      <td>1.000000</td>\n",
       "      <td>5.000000</td>\n",
       "      <td>936.000000</td>\n",
       "      <td>3.000000</td>\n",
       "    </tr>\n",
       "    <tr>\n",
       "      <th>90%</th>\n",
       "      <td>650506.100000</td>\n",
       "      <td>1.000000</td>\n",
       "      <td>7.000000</td>\n",
       "      <td>1380.000000</td>\n",
       "      <td>5.000000</td>\n",
       "    </tr>\n",
       "    <tr>\n",
       "      <th>95%</th>\n",
       "      <td>655404.050000</td>\n",
       "      <td>1.000000</td>\n",
       "      <td>10.000000</td>\n",
       "      <td>1562.000000</td>\n",
       "      <td>6.000000</td>\n",
       "    </tr>\n",
       "    <tr>\n",
       "      <th>99%</th>\n",
       "      <td>659592.980000</td>\n",
       "      <td>1.000000</td>\n",
       "      <td>17.000000</td>\n",
       "      <td>1840.610000</td>\n",
       "      <td>9.000000</td>\n",
       "    </tr>\n",
       "    <tr>\n",
       "      <th>max</th>\n",
       "      <td>660737.000000</td>\n",
       "      <td>1.000000</td>\n",
       "      <td>251.000000</td>\n",
       "      <td>2272.000000</td>\n",
       "      <td>55.000000</td>\n",
       "    </tr>\n",
       "  </tbody>\n",
       "</table>\n",
       "</div>"
      ],
      "text/plain": [
       "         Lead Number    Converted  TotalVisits  Total Time Spent on Website  \\\n",
       "count    9240.000000  9240.000000  9240.000000                  9240.000000   \n",
       "mean   617188.435606     0.385390     3.438636                   487.698268   \n",
       "std     23405.995698     0.486714     4.819024                   548.021466   \n",
       "min    579533.000000     0.000000     0.000000                     0.000000   \n",
       "1%     580317.120000     0.000000     0.000000                     0.000000   \n",
       "5%     582869.900000     0.000000     0.000000                     0.000000   \n",
       "25%    596484.500000     0.000000     1.000000                    12.000000   \n",
       "50%    615479.000000     0.000000     3.000000                   248.000000   \n",
       "75%    637387.250000     1.000000     5.000000                   936.000000   \n",
       "90%    650506.100000     1.000000     7.000000                  1380.000000   \n",
       "95%    655404.050000     1.000000    10.000000                  1562.000000   \n",
       "99%    659592.980000     1.000000    17.000000                  1840.610000   \n",
       "max    660737.000000     1.000000   251.000000                  2272.000000   \n",
       "\n",
       "       Page Views Per Visit  \n",
       "count           9240.000000  \n",
       "mean               2.357440  \n",
       "std                2.145781  \n",
       "min                0.000000  \n",
       "1%                 0.000000  \n",
       "5%                 0.000000  \n",
       "25%                1.000000  \n",
       "50%                2.000000  \n",
       "75%                3.000000  \n",
       "90%                5.000000  \n",
       "95%                6.000000  \n",
       "99%                9.000000  \n",
       "max               55.000000  "
      ]
     },
     "execution_count": 44,
     "metadata": {},
     "output_type": "execute_result"
    }
   ],
   "source": [
    "lead.describe(percentiles = [0.01,0.05,.25, .5, .75, .90, .95, .99])"
   ]
  },
  {
   "cell_type": "code",
   "execution_count": 45,
   "id": "42e9f6cd",
   "metadata": {},
   "outputs": [
    {
     "data": {
      "text/plain": [
       "<Axes: >"
      ]
     },
     "execution_count": 45,
     "metadata": {},
     "output_type": "execute_result"
    },
    {
     "data": {
      "image/png": "[encoded data removed]",
      "text/plain": [
       "<Figure size 640x480 with 1 Axes>"
      ]
     },
     "metadata": {},
     "output_type": "display_data"
    }
   ],
   "source": [
    "sns.boxplot(data=lead[\"TotalVisits\"])"
   ]
  },
  {
   "cell_type": "code",
   "execution_count": 46,
   "id": "412cbc6e",
   "metadata": {},
   "outputs": [],
   "source": [
    "#Removing values above 90%:\n",
    "quartile_total_visits = lead['TotalVisits'].quantile(0.99)\n",
    "lead = lead[lead[\"TotalVisits\"] < quartile_total_visits]"
   ]
  },
  {
   "cell_type": "code",
   "execution_count": 47,
   "id": "9fc63f30",
   "metadata": {},
   "outputs": [
    {
     "data": {
      "text/plain": [
       "<Axes: >"
      ]
     },
     "execution_count": 47,
     "metadata": {},
     "output_type": "execute_result"
    },
    {
     "data": {
      "image/png": "[encoded data removed]",
      "text/plain": [
       "<Figure size 640x480 with 1 Axes>"
      ]
     },
     "metadata": {},
     "output_type": "display_data"
    }
   ],
   "source": [
    "sns.boxplot(data=lead[\"Page Views Per Visit\"])"
   ]
  },
  {
   "cell_type": "code",
   "execution_count": 48,
   "id": "a4955d93",
   "metadata": {},
   "outputs": [],
   "source": [
    "#Removing values above 90%:\n",
    "quartile_page_visits = lead['Page Views Per Visit'].quantile(0.99)\n",
    "lead = lead[lead[\"Page Views Per Visit\"] < quartile_page_visits]"
   ]
  },
  {
   "cell_type": "code",
   "execution_count": 49,
   "id": "94cc2184",
   "metadata": {},
   "outputs": [
    {
     "data": {
      "text/plain": [
       "<Axes: >"
      ]
     },
     "execution_count": 49,
     "metadata": {},
     "output_type": "execute_result"
    },
    {
     "data": {
      "image/png": "[encoded data removed]",
      "text/plain": [
       "<Figure size 640x480 with 1 Axes>"
      ]
     },
     "metadata": {},
     "output_type": "display_data"
    }
   ],
   "source": [
    "sns.boxplot(data=lead[\"Total Time Spent on Website\"])"
   ]
  },
  {
   "cell_type": "code",
   "execution_count": 50,
   "id": "1c7314ac",
   "metadata": {},
   "outputs": [],
   "source": [
    "#Removing values above 90%:\n",
    "quartile_total_time = lead['Total Time Spent on Website'].quantile(0.99)\n",
    "lead = lead[lead[\"Total Time Spent on Website\"] < quartile_total_time]"
   ]
  },
  {
   "cell_type": "markdown",
   "id": "2739b7e8",
   "metadata": {},
   "source": [
    "#### STEP-4: UNIVARIATE & BIVARIATE ANALYSIS"
   ]
  },
  {
   "cell_type": "markdown",
   "id": "608d135f",
   "metadata": {},
   "source": [
    "##### UNIVARIATE ANALYSIS"
   ]
  },
  {
   "cell_type": "code",
   "execution_count": 51,
   "id": "c33620ec",
   "metadata": {},
   "outputs": [
    {
     "data": {
      "text/html": [
       "<div>\n",
       "<style scoped>\n",
       "    .dataframe tbody tr th:only-of-type {\n",
       "        vertical-align: middle;\n",
       "    }\n",
       "\n",
       "    .dataframe tbody tr th {\n",
       "        vertical-align: top;\n",
       "    }\n",
       "\n",
       "    .dataframe thead th {\n",
       "        text-align: right;\n",
       "    }\n",
       "</style>\n",
       "<table border=\"1\" class=\"dataframe\">\n",
       "  <thead>\n",
       "    <tr style=\"text-align: right;\">\n",
       "      <th></th>\n",
       "      <th>Prospect ID</th>\n",
       "      <th>Lead Number</th>\n",
       "      <th>Lead Origin</th>\n",
       "      <th>Lead Source</th>\n",
       "      <th>Converted</th>\n",
       "      <th>TotalVisits</th>\n",
       "      <th>Total Time Spent on Website</th>\n",
       "      <th>Page Views Per Visit</th>\n",
       "      <th>Last Activity</th>\n",
       "      <th>Specialization</th>\n",
       "      <th>What is your current occupation</th>\n",
       "      <th>Tags</th>\n",
       "      <th>City</th>\n",
       "      <th>A free copy of Mastering The Interview</th>\n",
       "    </tr>\n",
       "  </thead>\n",
       "  <tbody>\n",
       "    <tr>\n",
       "      <th>0</th>\n",
       "      <td>7927b2df-8bba-4d29-b9a2-b6e0beafe620</td>\n",
       "      <td>660737</td>\n",
       "      <td>API</td>\n",
       "      <td>Olark Chat</td>\n",
       "      <td>0</td>\n",
       "      <td>0.0</td>\n",
       "      <td>0</td>\n",
       "      <td>0.0</td>\n",
       "      <td>Page Visited on Website</td>\n",
       "      <td>Not_specified</td>\n",
       "      <td>Unemployed</td>\n",
       "      <td>Interested in other courses</td>\n",
       "      <td>Mumbai</td>\n",
       "      <td>No</td>\n",
       "    </tr>\n",
       "    <tr>\n",
       "      <th>1</th>\n",
       "      <td>2a272436-5132-4136-86fa-dcc88c88f482</td>\n",
       "      <td>660728</td>\n",
       "      <td>API</td>\n",
       "      <td>Organic Search</td>\n",
       "      <td>0</td>\n",
       "      <td>5.0</td>\n",
       "      <td>674</td>\n",
       "      <td>2.5</td>\n",
       "      <td>Email Opened</td>\n",
       "      <td>Not_specified</td>\n",
       "      <td>Unemployed</td>\n",
       "      <td>Ringing</td>\n",
       "      <td>Mumbai</td>\n",
       "      <td>No</td>\n",
       "    </tr>\n",
       "    <tr>\n",
       "      <th>2</th>\n",
       "      <td>8cc8c611-a219-4f35-ad23-fdfd2656bd8a</td>\n",
       "      <td>660727</td>\n",
       "      <td>Landing Page Submission</td>\n",
       "      <td>Direct Traffic</td>\n",
       "      <td>1</td>\n",
       "      <td>2.0</td>\n",
       "      <td>1532</td>\n",
       "      <td>2.0</td>\n",
       "      <td>Email Opened</td>\n",
       "      <td>Business Administration</td>\n",
       "      <td>Student</td>\n",
       "      <td>Will revert after reading the email</td>\n",
       "      <td>Mumbai</td>\n",
       "      <td>Yes</td>\n",
       "    </tr>\n",
       "    <tr>\n",
       "      <th>3</th>\n",
       "      <td>0cc2df48-7cf4-4e39-9de9-19797f9b38cc</td>\n",
       "      <td>660719</td>\n",
       "      <td>Landing Page Submission</td>\n",
       "      <td>Direct Traffic</td>\n",
       "      <td>0</td>\n",
       "      <td>1.0</td>\n",
       "      <td>305</td>\n",
       "      <td>1.0</td>\n",
       "      <td>Others</td>\n",
       "      <td>Media and Advertising</td>\n",
       "      <td>Unemployed</td>\n",
       "      <td>Ringing</td>\n",
       "      <td>Mumbai</td>\n",
       "      <td>No</td>\n",
       "    </tr>\n",
       "    <tr>\n",
       "      <th>4</th>\n",
       "      <td>3256f628-e534-4826-9d63-4a8b88782852</td>\n",
       "      <td>660681</td>\n",
       "      <td>Landing Page Submission</td>\n",
       "      <td>Google</td>\n",
       "      <td>1</td>\n",
       "      <td>2.0</td>\n",
       "      <td>1428</td>\n",
       "      <td>1.0</td>\n",
       "      <td>Converted to Lead</td>\n",
       "      <td>Not_specified</td>\n",
       "      <td>Unemployed</td>\n",
       "      <td>Will revert after reading the email</td>\n",
       "      <td>Mumbai</td>\n",
       "      <td>No</td>\n",
       "    </tr>\n",
       "  </tbody>\n",
       "</table>\n",
       "</div>"
      ],
      "text/plain": [
       "                            Prospect ID  Lead Number              Lead Origin  \\\n",
       "0  7927b2df-8bba-4d29-b9a2-b6e0beafe620       660737                      API   \n",
       "1  2a272436-5132-4136-86fa-dcc88c88f482       660728                      API   \n",
       "2  8cc8c611-a219-4f35-ad23-fdfd2656bd8a       660727  Landing Page Submission   \n",
       "3  0cc2df48-7cf4-4e39-9de9-19797f9b38cc       660719  Landing Page Submission   \n",
       "4  3256f628-e534-4826-9d63-4a8b88782852       660681  Landing Page Submission   \n",
       "\n",
       "      Lead Source  Converted  TotalVisits  Total Time Spent on Website  \\\n",
       "0      Olark Chat          0          0.0                            0   \n",
       "1  Organic Search          0          5.0                          674   \n",
       "2  Direct Traffic          1          2.0                         1532   \n",
       "3  Direct Traffic          0          1.0                          305   \n",
       "4          Google          1          2.0                         1428   \n",
       "\n",
       "   Page Views Per Visit            Last Activity           Specialization  \\\n",
       "0                   0.0  Page Visited on Website            Not_specified   \n",
       "1                   2.5             Email Opened            Not_specified   \n",
       "2                   2.0             Email Opened  Business Administration   \n",
       "3                   1.0                   Others    Media and Advertising   \n",
       "4                   1.0        Converted to Lead            Not_specified   \n",
       "\n",
       "  What is your current occupation                                 Tags  \\\n",
       "0                      Unemployed          Interested in other courses   \n",
       "1                      Unemployed                              Ringing   \n",
       "2                         Student  Will revert after reading the email   \n",
       "3                      Unemployed                              Ringing   \n",
       "4                      Unemployed  Will revert after reading the email   \n",
       "\n",
       "     City A free copy of Mastering The Interview  \n",
       "0  Mumbai                                     No  \n",
       "1  Mumbai                                     No  \n",
       "2  Mumbai                                    Yes  \n",
       "3  Mumbai                                     No  \n",
       "4  Mumbai                                     No  "
      ]
     },
     "execution_count": 51,
     "metadata": {},
     "output_type": "execute_result"
    }
   ],
   "source": [
    "lead.head()"
   ]
  },
  {
   "cell_type": "code",
   "execution_count": 53,
   "id": "e0179171",
   "metadata": {},
   "outputs": [
    {
     "data": {
      "image/png": "[encoded data removed]",
      "text/plain": [
       "<Figure size 2000x1200 with 6 Axes>"
      ]
     },
     "metadata": {},
     "output_type": "display_data"
    }
   ],
   "source": [
    "plt.figure(figsize=(20, 12))\n",
    "plt.subplot(2, 3, 1)\n",
    "sns.histplot(lead[\"TotalVisits\"])\n",
    "plt.subplot(2, 3, 2)\n",
    "sns.histplot(lead[\"Lead Source\"])\n",
    "plt.xticks(rotation=90)\n",
    "plt.subplot(2, 3, 3)\n",
    "sns.histplot(lead[\"Last Activity\"])\n",
    "plt.xticks(rotation=90)\n",
    "plt.subplot(2, 3, 4)\n",
    "sns.histplot(lead[\"What is your current occupation\"])\n",
    "plt.subplot(2, 3, 5)\n",
    "sns.histplot(lead[\"Specialization\"])\n",
    "plt.xticks(rotation=90)\n",
    "plt.subplot(2, 3, 6)\n",
    "sns.histplot(lead[\"Tags\"])\n",
    "plt.xticks(rotation=90)\n",
    "plt.show()"
   ]
  },
  {
   "cell_type": "markdown",
   "id": "eb5c15d3",
   "metadata": {},
   "source": [
    "#### --> The following Observations were found from the above analysis:-\n",
    "    1.Maximum frequency of total visits is in 0 visits.\n",
    "    2.Majority of the Lead Source is from Google Search followed by Direct Traffic.\n",
    "    3.SMS sent and Email Opened as their last activity has maximum leads.\n",
    "    4.Maximum leads have occupation as Unemployed, and conversion rate of working professional is good. so it is important to focus on unemployed and working professionals. \n",
    "    Houswives have least leads.\n",
    "    5.Not Specified has most no. of tags."
   ]
  },
  {
   "cell_type": "code",
   "execution_count": 58,
   "id": "05dea907",
   "metadata": {
    "scrolled": true
   },
   "outputs": [
    {
     "data": {
      "image/png": "[encoded data removed]",
      "text/plain": [
       "<Figure size 640x480 with 1 Axes>"
      ]
     },
     "metadata": {},
     "output_type": "display_data"
    }
   ],
   "source": [
    "sns.countplot(x = lead[\"Lead Origin\"], hue = lead[\"Converted\"])\n",
    "plt.xticks(rotation=90)\n",
    "plt.show()"
   ]
  },
  {
   "cell_type": "markdown",
   "id": "49ca5e7b",
   "metadata": {},
   "source": [
    "##### --> We can see that the Landing Page Submission has most converted rate followed by API."
   ]
  },
  {
   "cell_type": "code",
   "execution_count": 62,
   "id": "37f0024a",
   "metadata": {},
   "outputs": [
    {
     "data": {
      "text/plain": [
       "Mumbai                         6696\n",
       "Thane & Outskirts               714\n",
       "Other Cities                    664\n",
       "Other Cities of Maharashtra     433\n",
       "Other Metro Cities              361\n",
       "Tier II Cities                   70\n",
       "Name: City, dtype: int64"
      ]
     },
     "execution_count": 62,
     "metadata": {},
     "output_type": "execute_result"
    }
   ],
   "source": [
    "lead.City.value_counts()"
   ]
  },
  {
   "cell_type": "code",
   "execution_count": 64,
   "id": "41cef99f",
   "metadata": {},
   "outputs": [
    {
     "data": {
      "text/plain": [
       "<Axes: xlabel='A free copy of Mastering The Interview', ylabel='count'>"
      ]
     },
     "execution_count": 64,
     "metadata": {},
     "output_type": "execute_result"
    },
    {
     "data": {
      "image/png": "[encoded data removed]",
      "text/plain": [
       "<Figure size 640x480 with 1 Axes>"
      ]
     },
     "metadata": {},
     "output_type": "display_data"
    }
   ],
   "source": [
    "sns.countplot(x=lead[\"A free copy of Mastering The Interview\"], hue=lead[\"Converted\"])"
   ]
  },
  {
   "cell_type": "markdown",
   "id": "59949d67",
   "metadata": {},
   "source": [
    "##### -->It can be seen that the student who did not opt for the free copy of Mastering the Interview had the most likely rate to be converted."
   ]
  },
  {
   "cell_type": "markdown",
   "id": "6438e68f",
   "metadata": {},
   "source": [
    "##### BIVARIATE ANALYSIS`"
   ]
  },
  {
   "cell_type": "code",
   "execution_count": 67,
   "id": "03e934b7",
   "metadata": {},
   "outputs": [
    {
     "data": {
      "image/png": "[encoded data removed]",
      "text/plain": [
       "<Figure size 2000x1200 with 3 Axes>"
      ]
     },
     "metadata": {},
     "output_type": "display_data"
    }
   ],
   "source": [
    "plt.figure(figsize=(20, 12))\n",
    "plt.subplot(2, 4, 1)\n",
    "sns.barplot(x='Converted', y='TotalVisits', data=lead)\n",
    "plt.subplot(2, 4, 2)\n",
    "sns.barplot(x='Converted', y='Total Time Spent on Website', data=lead)\n",
    "plt.subplot(2, 4, 3)\n",
    "sns.barplot(x='Converted', y='Page Views Per Visit', data=lead)\n",
    "plt.show()"
   ]
  },
  {
   "cell_type": "markdown",
   "id": "d7b439cd",
   "metadata": {},
   "source": [
    "### The above graph shows following observations:\n",
    "    1. People with more visits are more likely to be converted.\n",
    "    2. People who spend more hours on the website are more likely to be converted.\n",
    "    3. Both converted and non converted student have similar amount of page views per visit."
   ]
  },
  {
   "cell_type": "code",
   "execution_count": 65,
   "id": "dca25899",
   "metadata": {},
   "outputs": [
    {
     "data": {
      "image/png": "[encoded data removed]",
      "text/plain": [
       "<Figure size 640x480 with 2 Axes>"
      ]
     },
     "metadata": {},
     "output_type": "display_data"
    }
   ],
   "source": [
    "#heatmap\n",
    "sns.heatmap(lead.corr(),cmap=\"RdYlGn\",vmax=.8, annot=True, square = True)\n",
    "plt.show()"
   ]
  },
  {
   "cell_type": "markdown",
   "id": "f3af7d45",
   "metadata": {},
   "source": [
    "##### --> The above graph shows following observations:\n",
    "    1. Total Visits & Page views per visit have strong correlation btw each other.\n",
    "    2. Total time spent on website and getting converted have positive correlation.\n",
    "    3. Total visits and total time spent on website is also positive correlated."
   ]
  },
  {
   "cell_type": "markdown",
   "id": "3344dc9e",
   "metadata": {},
   "source": [
    "#### STEP-5: DATA PREPARATION AND FEATURE SELECTION"
   ]
  },
  {
   "cell_type": "code",
   "execution_count": null,
   "id": "7d43519d",
   "metadata": {},
   "outputs": [],
   "source": [
    "lead.head()"
   ]
  },
  {
   "cell_type": "code",
   "execution_count": null,
   "id": "2a8c0429",
   "metadata": {},
   "outputs": [],
   "source": [
    "# mapping columns\n",
    "\n",
    "lead['A free copy of Mastering The Interview'] = lead['A free copy of Mastering The Interview'].apply(lambda x: 1 if x=='Yes'else 0)"
   ]
  },
  {
   "cell_type": "code",
   "execution_count": null,
   "id": "a8917793",
   "metadata": {},
   "outputs": [],
   "source": [
    "# droping Prospect ID, lead Number as it has only unique numbers and characters\n",
    "\n",
    "lead.drop(['Prospect ID','Lead Number'],1,inplace=True)\n",
    "lead.head()"
   ]
  },
  {
   "cell_type": "code",
   "execution_count": null,
   "id": "a99c24c1",
   "metadata": {},
   "outputs": [],
   "source": [
    "lead.info()"
   ]
  },
  {
   "cell_type": "code",
   "execution_count": null,
   "id": "1322c706",
   "metadata": {},
   "outputs": [],
   "source": [
    "#Creating Dummy Variables for all Categorical Variable:\n",
    "dummies_lead = pd.get_dummies(lead['Lead Origin'])\n",
    "dummies_lead.head()"
   ]
  },
  {
   "cell_type": "code",
   "execution_count": null,
   "id": "bda4f8fa",
   "metadata": {},
   "outputs": [],
   "source": [
    "lead_dummy = pd.get_dummies(lead['What is your current occupation'])"
   ]
  },
  {
   "cell_type": "code",
   "execution_count": null,
   "id": "e4eff556",
   "metadata": {},
   "outputs": [],
   "source": [
    "lead_dummy = pd.get_dummies(lead['City'])"
   ]
  },
  {
   "cell_type": "code",
   "execution_count": null,
   "id": "3f4fb099",
   "metadata": {},
   "outputs": [],
   "source": [
    "lead_dummy1 =pd.get_dummies(lead['Last Activity'],prefix='Last Activity')\n",
    "lead_dummy1 = lead_dummy1.drop(['Last Activity_Others'], axis=1)\n",
    "lead_dummy1.head()"
   ]
  },
  {
   "cell_type": "code",
   "execution_count": null,
   "id": "9c2e31f0",
   "metadata": {},
   "outputs": [],
   "source": [
    "lead_dummy2=pd.get_dummies(lead['Lead Source'],prefix='Lead Source')\n",
    "lead_dummy2 = lead_dummy2.drop(['Lead Source_Others'], axis=1)\n",
    "lead_dummy2.head()"
   ]
  },
  {
   "cell_type": "code",
   "execution_count": null,
   "id": "a70e570f",
   "metadata": {},
   "outputs": [],
   "source": [
    "lead_dummy3=pd.get_dummies(lead['Specialization'],prefix='Specialization')\n",
    "lead_dummy3 = lead_dummy3.drop(['Specialization_Not_specified'], axis=1)\n",
    "lead_dummy3.head()"
   ]
  },
  {
   "cell_type": "code",
   "execution_count": null,
   "id": "68e4f9f8",
   "metadata": {},
   "outputs": [],
   "source": [
    "lead_dummy4=pd.get_dummies(lead['Tags'],prefix='Tags')\n",
    "lead_dummy4 = lead_dummy4.drop(['Tags_Others'], axis=1)\n",
    "lead_dummy4.head()"
   ]
  },
  {
   "cell_type": "code",
   "execution_count": null,
   "id": "5b76390f",
   "metadata": {},
   "outputs": [],
   "source": [
    "#merging all variables in one dataframe:\n",
    "lead = pd.concat([lead,lead_dummy,lead_dummy1,lead_dummy2,lead_dummy3,lead_dummy4],axis=1)\n",
    "lead.head()"
   ]
  },
  {
   "cell_type": "code",
   "execution_count": null,
   "id": "68b78f0c",
   "metadata": {},
   "outputs": [],
   "source": [
    "#Dropping the Original Columns:\n",
    "drop_cols=['Lead Origin','Lead Source','Last Activity','Specialization','What is your current occupation','Tags'\n",
    "          ,'City',]\n",
    "lead.drop(drop_cols,axis=1,inplace=True)"
   ]
  },
  {
   "cell_type": "code",
   "execution_count": null,
   "id": "ece4e297",
   "metadata": {},
   "outputs": [],
   "source": [
    "lead.shape"
   ]
  },
  {
   "cell_type": "markdown",
   "id": "a247a690",
   "metadata": {},
   "source": [
    "#### STEP-6: SPLIT THE DATA"
   ]
  },
  {
   "cell_type": "code",
   "execution_count": null,
   "id": "1956a117",
   "metadata": {},
   "outputs": [],
   "source": [
    "x = lead.drop('Converted',axis=1)\n",
    "y = lead['Converted']\n",
    "y.head()"
   ]
  },
  {
   "cell_type": "code",
   "execution_count": null,
   "id": "e2165849",
   "metadata": {},
   "outputs": [],
   "source": [
    "x.head()"
   ]
  },
  {
   "cell_type": "code",
   "execution_count": null,
   "id": "a4c60aeb",
   "metadata": {},
   "outputs": [],
   "source": [
    "# Splitting the data into train and test :\n",
    "\n",
    "x_train, x_test, y_train, y_test = train_test_split(x,y,train_size=0.7,test_size=0.3, random_state=100)"
   ]
  },
  {
   "cell_type": "code",
   "execution_count": null,
   "id": "3d022a38",
   "metadata": {},
   "outputs": [],
   "source": [
    "#Rescaling the variables:\n",
    "scaler = StandardScaler()\n",
    "num_cols=x_train.select_dtypes(include=['float64','int64']).columns\n",
    "x_train[num_cols] = scaler.fit_transform(x_train[num_cols])\n",
    "x_train.head()"
   ]
  },
  {
   "cell_type": "markdown",
   "id": "d27b4d8d",
   "metadata": {},
   "source": [
    "#### STEP-7: MODEL BUILDING AND EVALUATION"
   ]
  },
  {
   "cell_type": "code",
   "execution_count": null,
   "id": "988a369e",
   "metadata": {},
   "outputs": [],
   "source": [
    "#Building model with statsmodels and rfe:\n",
    "logreg = LogisticRegression()\n",
    "rfe = RFE(logreg, n_features_to_select=15)             # running RFE with 15 variables as output\n",
    "rfe = rfe.fit(x_train, y_train)"
   ]
  },
  {
   "cell_type": "code",
   "execution_count": null,
   "id": "a94163cb",
   "metadata": {},
   "outputs": [],
   "source": [
    "rfe.support_"
   ]
  },
  {
   "cell_type": "code",
   "execution_count": null,
   "id": "d2c0e13f",
   "metadata": {},
   "outputs": [],
   "source": [
    "list(zip(x_train.columns,rfe.support_,rfe.ranking_))"
   ]
  },
  {
   "cell_type": "code",
   "execution_count": null,
   "id": "e979fd14",
   "metadata": {},
   "outputs": [],
   "source": [
    "# list of RFE supported columns \n",
    "\n",
    "columns = x_train.columns[rfe.support_]\n",
    "columns"
   ]
  },
  {
   "cell_type": "code",
   "execution_count": null,
   "id": "0b2337a1",
   "metadata": {},
   "outputs": [],
   "source": [
    "x_train.columns[~rfe.support_]"
   ]
  },
  {
   "cell_type": "code",
   "execution_count": null,
   "id": "75100884",
   "metadata": {},
   "outputs": [],
   "source": [
    "# MODEL BUILDING-1\n",
    "\n",
    "x_train_sm = sm.add_constant(x_train[columns])\n",
    "logm1 = sm.GLM(y_train,x_train_sm,family = sm.families.Binomial())\n",
    "res = logm1.fit()\n",
    "res.summary()"
   ]
  },
  {
   "cell_type": "markdown",
   "id": "9029395b",
   "metadata": {},
   "source": [
    "##### -->Since all the variables have less p-value lets have a look at VIFs as well."
   ]
  },
  {
   "cell_type": "code",
   "execution_count": null,
   "id": "45bdd2c2",
   "metadata": {},
   "outputs": [],
   "source": [
    "vif = pd.DataFrame()\n",
    "vif['Features'] = x_train[columns].columns\n",
    "vif['VIF'] = [variance_inflation_factor(x_train[columns].values,i) for i in range(x_train[columns].shape[1])]\n",
    "vif['VIF'] = round(vif['VIF'],2)\n",
    "vif = vif.sort_values(by = 'VIF', ascending= False)\n",
    "vif"
   ]
  },
  {
   "cell_type": "markdown",
   "id": "531a66b7",
   "metadata": {},
   "source": [
    "##### --> The VIF score is also not that high so changes necessary"
   ]
  },
  {
   "cell_type": "code",
   "execution_count": null,
   "id": "db231eaa",
   "metadata": {},
   "outputs": [],
   "source": [
    "# Getting the Predicted values on the train set\n",
    "y_train_pred = res.predict(x_train_sm)\n",
    "y_train_pred[:10]"
   ]
  },
  {
   "cell_type": "code",
   "execution_count": null,
   "id": "7787d970",
   "metadata": {},
   "outputs": [],
   "source": [
    "y_train_pred = y_train_pred.values.reshape(-1)\n",
    "y_train_pred[:10]"
   ]
  },
  {
   "cell_type": "code",
   "execution_count": null,
   "id": "add19d77",
   "metadata": {},
   "outputs": [],
   "source": [
    "y_train_pred_final = pd.DataFrame({'Converted':y_train.values,'Converted_prob':y_train_pred})\n",
    "y_train_pred_final['Lead Number'] = y_train.index\n",
    "y_train_pred_final.head()"
   ]
  },
  {
   "cell_type": "code",
   "execution_count": null,
   "id": "824e7efb",
   "metadata": {},
   "outputs": [],
   "source": [
    "y_train_pred_final = pd.DataFrame({'Converted':y_train.values,'Converted_prob':y_train_pred})\n",
    "y_train_pred_final['Lead Number'] = y_train.index\n",
    "y_train_pred_final.head()"
   ]
  },
  {
   "cell_type": "code",
   "execution_count": null,
   "id": "6c8ec99c",
   "metadata": {},
   "outputs": [],
   "source": [
    "y_train_pred_final['Predicted'] = y_train_pred_final.Converted_prob.map(lambda x: 1 if x>0.5 else 0)\n",
    "y_train_pred_final.head()"
   ]
  },
  {
   "cell_type": "code",
   "execution_count": null,
   "id": "71edccb8",
   "metadata": {},
   "outputs": [],
   "source": [
    "# Confusion matrix\n",
    "confusion = metrics.confusion_matrix(y_train_pred_final.Converted,y_train_pred_final.Predicted)\n",
    "print(confusion)"
   ]
  },
  {
   "cell_type": "code",
   "execution_count": null,
   "id": "470fd077",
   "metadata": {},
   "outputs": [],
   "source": [
    "#Checking Accuracy:\n",
    "print(metrics.accuracy_score(y_train_pred_final.Converted,y_train_pred_final.Predicted))"
   ]
  },
  {
   "cell_type": "code",
   "execution_count": null,
   "id": "ca70b992",
   "metadata": {},
   "outputs": [],
   "source": [
    "TP = confusion[1,1] # true positives\n",
    "TN = confusion[0,0] # true negatives\n",
    "FP = confusion[0,1] # false positives\n",
    "FN = confusion[1,0] # false negatives"
   ]
  },
  {
   "cell_type": "code",
   "execution_count": null,
   "id": "0e609a34",
   "metadata": {},
   "outputs": [],
   "source": [
    "# Lets see the sensitivity of our logistic regression model\n",
    "TP/float(TP+FN)"
   ]
  },
  {
   "cell_type": "code",
   "execution_count": null,
   "id": "1e3611de",
   "metadata": {},
   "outputs": [],
   "source": [
    "# Lets see the specificity \n",
    "TN/float(TN+FP)"
   ]
  },
  {
   "cell_type": "code",
   "execution_count": null,
   "id": "0b0b2b1a",
   "metadata": {},
   "outputs": [],
   "source": [
    "# Calculate False Positive Rate - predicting conversion when customer does not have convert\n",
    "print(FP/float(TN+FP))"
   ]
  },
  {
   "cell_type": "code",
   "execution_count": null,
   "id": "a6090f93",
   "metadata": {},
   "outputs": [],
   "source": [
    "# positive predictive value\n",
    "print(TP/float(TP+FP))"
   ]
  },
  {
   "cell_type": "code",
   "execution_count": null,
   "id": "61655299",
   "metadata": {},
   "outputs": [],
   "source": [
    "# negative predictive value \n",
    "print(TN/float(TN+FN))"
   ]
  },
  {
   "cell_type": "markdown",
   "id": "61a2608b",
   "metadata": {},
   "source": [
    "##### PLOTTING ROC CURVE"
   ]
  },
  {
   "cell_type": "code",
   "execution_count": null,
   "id": "5fcb9da4",
   "metadata": {},
   "outputs": [],
   "source": [
    "def draw_roc(actual,probs):\n",
    "    fpr, tpr, thresholds = metrics.roc_curve(actual,probs,drop_intermediate=False)\n",
    "    auc_score = metrics.roc_auc_score(actual,probs)\n",
    "    plt.figure(figsize=(5,5))\n",
    "    plt.plot( fpr, tpr, label='ROC curve (area = %0.2f)' %auc_score)\n",
    "    plt.plot([0,1],[0,1],'k--')\n",
    "    plt.xlim([0.0,1.0])\n",
    "    plt.ylim([0.0,1.05])\n",
    "    plt.xlabel('False Positive Rate or [1 - True Negative Rate]')\n",
    "    plt.ylabel('True Positive Rate')\n",
    "    plt.title('Receiver operating characteristic example')\n",
    "    plt.legend(loc='lower right')\n",
    "    plt.show()\n",
    "    \n",
    "    return None"
   ]
  },
  {
   "cell_type": "code",
   "execution_count": null,
   "id": "43cd86e9",
   "metadata": {},
   "outputs": [],
   "source": [
    "fpr, tpr, thresholds = metrics.roc_curve(y_train_pred_final.Converted,y_train_pred_final.Converted_prob,drop_intermediate=False)"
   ]
  },
  {
   "cell_type": "code",
   "execution_count": null,
   "id": "cc3786db",
   "metadata": {},
   "outputs": [],
   "source": [
    "#Drawing Curve:-\n",
    "draw_roc(y_train_pred_final.Converted,y_train_pred_final.Converted_prob)"
   ]
  },
  {
   "cell_type": "markdown",
   "id": "4ea67a1e",
   "metadata": {},
   "source": [
    "##### We are getting 0.96 which is close to 1."
   ]
  },
  {
   "cell_type": "markdown",
   "id": "ea7cc3d6",
   "metadata": {},
   "source": [
    "##### Finding optimal cutoff point:-"
   ]
  },
  {
   "cell_type": "code",
   "execution_count": null,
   "id": "e30ae4f6",
   "metadata": {},
   "outputs": [],
   "source": [
    "# Let's create columns with different probability cutoffs\n",
    "numbers = [float(x)/10 for x in range(10)]\n",
    "for i in numbers:\n",
    "    y_train_pred_final[i] = y_train_pred_final.Converted_prob.map(lambda x: 1 if x > i else 0)\n",
    "y_train_pred_final.head()"
   ]
  },
  {
   "cell_type": "code",
   "execution_count": null,
   "id": "6fd3d5db",
   "metadata": {},
   "outputs": [],
   "source": [
    "# let's calculate accuracy sensitivity and specificity for various probability cutoffs.\n",
    "cutoff_lead = pd.DataFrame( columns = ['prob','accuracy','sensi','speci'])\n",
    "from sklearn.metrics import confusion_matrix\n",
    "\n",
    "\n",
    "num = [0.0,0.1,0.2,0.3,0.4,0.5,0.6,0.7,0.8,0.9]\n",
    "for i in num:\n",
    "    cm1 = metrics.confusion_matrix(y_train_pred_final.Converted, y_train_pred_final[i] )\n",
    "    total1=sum(sum(cm1))\n",
    "    accuracy = (cm1[0,0]+cm1[1,1])/total1\n",
    "    speci = cm1[0,0]/(cm1[0,0]+cm1[0,1])\n",
    "    sensi = cm1[1,1]/(cm1[1,0]+cm1[1,1])\n",
    "    cutoff_lead.loc[i] =[ i ,accuracy,sensi,speci]\n",
    "print(cutoff_lead)"
   ]
  },
  {
   "cell_type": "code",
   "execution_count": null,
   "id": "b4c594bf",
   "metadata": {},
   "outputs": [],
   "source": [
    "# Lets plot accuracy , sensitivity and specificity for various probabilities.\n",
    "\n",
    "cutoff_lead.plot.line(x='prob',y=['accuracy','sensi','speci'])\n",
    "plt.show"
   ]
  },
  {
   "cell_type": "code",
   "execution_count": null,
   "id": "96dc59a4",
   "metadata": {},
   "outputs": [],
   "source": [
    "#### From the above curve, 0.3 is the optimum point to take it as a cutoff probability.\n"
   ]
  },
  {
   "cell_type": "code",
   "execution_count": null,
   "id": "6867734b",
   "metadata": {},
   "outputs": [],
   "source": [
    "y_train_pred_final['Final_Predicted'] = y_train_pred_final.Converted_prob.map(lambda x: 1 if x > 0.3 else 0)\n",
    "y_train_pred_final.head()"
   ]
  },
  {
   "cell_type": "code",
   "execution_count": null,
   "id": "dd497597",
   "metadata": {},
   "outputs": [],
   "source": [
    "y_train_pred_final['Lead Score'] = y_train_pred_final.Converted_prob.map(lambda x: round(x*100))\n",
    "y_train_pred_final[['Converted','Converted_prob','Lead Number','Final_Predicted','Lead Score']].head()"
   ]
  },
  {
   "cell_type": "code",
   "execution_count": null,
   "id": "99ea31f6",
   "metadata": {},
   "outputs": [],
   "source": [
    "# Lets check the overall accuracy.\n",
    "print(metrics.accuracy_score(y_train_pred_final.Converted,y_train_pred_final.Final_Predicted))"
   ]
  },
  {
   "cell_type": "code",
   "execution_count": null,
   "id": "b2b28434",
   "metadata": {},
   "outputs": [],
   "source": [
    "confusion_1 = metrics.confusion_matrix(y_train_pred_final.Converted, y_train_pred_final.Final_Predicted)\n",
    "confusion_1"
   ]
  },
  {
   "cell_type": "code",
   "execution_count": null,
   "id": "95ed59a2",
   "metadata": {},
   "outputs": [],
   "source": [
    "TP = confusion_1[1,1] # true positives\n",
    "TN = confusion_1[0,0] # true negatives\n",
    "FP = confusion_1[0,1] # false positives\n",
    "FN = confusion_1[1,0] # false negatives"
   ]
  },
  {
   "cell_type": "code",
   "execution_count": null,
   "id": "0f3b0a4b",
   "metadata": {},
   "outputs": [],
   "source": [
    "# Lets see the sensitivity of our logistic regression model\n",
    "TP/float(TP+FN)"
   ]
  },
  {
   "cell_type": "code",
   "execution_count": null,
   "id": "c5dce74a",
   "metadata": {},
   "outputs": [],
   "source": [
    "# Lets see the specificity \n",
    "TN/float(TN+FP)"
   ]
  },
  {
   "cell_type": "markdown",
   "id": "f0bbde9e",
   "metadata": {},
   "source": [
    "##### The Following observations could be found from the model:\n",
    "\n",
    "So as we can see above the model seems to be performing well. The ROC curve has a value of 0.96, which is good. We have the following values for the Train Data:\n",
    "Accuracy : 89.80%\n",
    "Sensitivity : 88.81%\n",
    "Specificity : 90.40%"
   ]
  },
  {
   "cell_type": "code",
   "execution_count": null,
   "id": "dba64b94",
   "metadata": {},
   "outputs": [],
   "source": [
    "# Calculate False Positive Rate - predicting conversion when customer does not have convert\n",
    "print(FP/float(TN+FP))"
   ]
  },
  {
   "cell_type": "code",
   "execution_count": null,
   "id": "c5787ce7",
   "metadata": {},
   "outputs": [],
   "source": [
    "# positive predictive value\n",
    "print(TP/float(TP+FP))"
   ]
  },
  {
   "cell_type": "code",
   "execution_count": null,
   "id": "f7f33c38",
   "metadata": {},
   "outputs": [],
   "source": [
    "# negative predictive value \n",
    "print(TN/float(TN+FN))"
   ]
  },
  {
   "cell_type": "code",
   "execution_count": null,
   "id": "91a9e945",
   "metadata": {},
   "outputs": [],
   "source": [
    "confusion = metrics.confusion_matrix(y_train_pred_final.Converted,y_train_pred_final.Final_Predicted)\n",
    "print(confusion)"
   ]
  },
  {
   "cell_type": "code",
   "execution_count": null,
   "id": "6d709eb9",
   "metadata": {},
   "outputs": [],
   "source": [
    "#### Precision\n",
    "TP/TP+FP\n",
    "confusion[1,1]/(confusion[0,1]+confusion[1,1])"
   ]
  },
  {
   "cell_type": "code",
   "execution_count": null,
   "id": "e1805d52",
   "metadata": {},
   "outputs": [],
   "source": [
    "#### Recall\n",
    "TP/TP+FN\n",
    "confusion[1,1]/(confusion[1,0]+confusion[1,1])"
   ]
  },
  {
   "cell_type": "code",
   "execution_count": null,
   "id": "c87085d1",
   "metadata": {},
   "outputs": [],
   "source": [
    "precision_score(y_train_pred_final.Converted , y_train_pred_final.Final_Predicted)"
   ]
  },
  {
   "cell_type": "code",
   "execution_count": null,
   "id": "ce465491",
   "metadata": {},
   "outputs": [],
   "source": [
    "recall_score(y_train_pred_final.Converted, y_train_pred_final.Final_Predicted)"
   ]
  },
  {
   "cell_type": "code",
   "execution_count": null,
   "id": "8cd9665f",
   "metadata": {},
   "outputs": [],
   "source": [
    "y_train_pred_final.Converted, y_train_pred_final.Final_Predicted"
   ]
  },
  {
   "cell_type": "code",
   "execution_count": null,
   "id": "85b8d13a",
   "metadata": {},
   "outputs": [],
   "source": [
    "p, r, thresholds = precision_recall_curve(y_train_pred_final.Converted,y_train_pred_final.Converted_prob)"
   ]
  },
  {
   "cell_type": "code",
   "execution_count": null,
   "id": "b2f2b448",
   "metadata": {},
   "outputs": [],
   "source": [
    "plt.plot(thresholds,p[:-1],\"g-\")\n",
    "plt.plot(thresholds,r[:-1],\"r-\")\n",
    "plt.show()"
   ]
  },
  {
   "cell_type": "code",
   "execution_count": null,
   "id": "0e5a6dd9",
   "metadata": {},
   "outputs": [],
   "source": [
    "# Scaling test set\n",
    "num_cols = x_test.select_dtypes(include=['float64','int64']).columns\n",
    "x_test[num_cols] = scaler.fit_transform(x_test[num_cols])\n",
    "x_test.head()"
   ]
  },
  {
   "cell_type": "code",
   "execution_count": null,
   "id": "9f0ce7bc",
   "metadata": {},
   "outputs": [],
   "source": [
    "x_test = x_test[columns]\n",
    "x_test.head()"
   ]
  },
  {
   "cell_type": "code",
   "execution_count": null,
   "id": "1ed99506",
   "metadata": {},
   "outputs": [],
   "source": [
    "x_test_sm = sm.add_constant(x_test)"
   ]
  },
  {
   "cell_type": "markdown",
   "id": "eecc4a45",
   "metadata": {},
   "source": [
    "##### Making Predictions on the TEST Set"
   ]
  },
  {
   "cell_type": "code",
   "execution_count": null,
   "id": "5143c6ea",
   "metadata": {},
   "outputs": [],
   "source": [
    "y_test_pred = res.predict(x_test_sm)"
   ]
  },
  {
   "cell_type": "code",
   "execution_count": null,
   "id": "de933654",
   "metadata": {},
   "outputs": [],
   "source": [
    "y_test_pred[:10]"
   ]
  },
  {
   "cell_type": "code",
   "execution_count": null,
   "id": "7081c9b3",
   "metadata": {},
   "outputs": [],
   "source": [
    "# Converting y_pred into DataFrame\n",
    "y_pred = pd.DataFrame(y_test_pred)\n",
    "y_pred.head()"
   ]
  },
  {
   "cell_type": "code",
   "execution_count": null,
   "id": "3a1ac775",
   "metadata": {},
   "outputs": [],
   "source": [
    "# Converting y_test into DataFrame\n",
    "y_test_df =pd.DataFrame(y_test)"
   ]
  },
  {
   "cell_type": "code",
   "execution_count": null,
   "id": "58d422b3",
   "metadata": {},
   "outputs": [],
   "source": [
    "# Putting Lead Number to Index\n",
    "y_test_df['Lead Number'] = y_test_df.index"
   ]
  },
  {
   "cell_type": "code",
   "execution_count": null,
   "id": "7426d8ef",
   "metadata": {},
   "outputs": [],
   "source": [
    "# Removing index for both dataframes to append them side by side\n",
    "y_pred.reset_index(drop=True,inplace=True)\n",
    "y_test_df.reset_index(drop=True,inplace=True)"
   ]
  },
  {
   "cell_type": "code",
   "execution_count": null,
   "id": "5ef18adc",
   "metadata": {},
   "outputs": [],
   "source": [
    "# Concating y_pred and y_test_df\n",
    "y_pred_final = pd.concat([y_test_df,y_pred],axis=1)"
   ]
  },
  {
   "cell_type": "code",
   "execution_count": null,
   "id": "53b460a5",
   "metadata": {},
   "outputs": [],
   "source": [
    "y_pred_final.head()"
   ]
  },
  {
   "cell_type": "code",
   "execution_count": null,
   "id": "c3c778c8",
   "metadata": {},
   "outputs": [],
   "source": [
    "# Renaming the column\n",
    "y_pred_final = y_pred_final.rename(columns={0:'Converted_prob'})"
   ]
  },
  {
   "cell_type": "code",
   "execution_count": null,
   "id": "ec56e07e",
   "metadata": {},
   "outputs": [],
   "source": [
    "y_pred_final.head()"
   ]
  },
  {
   "cell_type": "code",
   "execution_count": null,
   "id": "77206e1a",
   "metadata": {},
   "outputs": [],
   "source": [
    "# Rearranging the columns \n",
    "y_pred_final = y_pred_final[['Lead Number','Converted','Converted_prob']]\n",
    "y_pred_final['Lead Score'] = y_pred_final.Converted_prob.map(lambda x: round(x*100))"
   ]
  },
  {
   "cell_type": "code",
   "execution_count": null,
   "id": "6a943ee0",
   "metadata": {},
   "outputs": [],
   "source": [
    "y_pred_final.head()"
   ]
  },
  {
   "cell_type": "code",
   "execution_count": null,
   "id": "e35d662d",
   "metadata": {},
   "outputs": [],
   "source": [
    "y_pred_final['Final_Predicted'] = y_pred_final.Converted_prob.map(lambda x: 1 if x > 0.3 else 0)"
   ]
  },
  {
   "cell_type": "code",
   "execution_count": null,
   "id": "c8110b39",
   "metadata": {},
   "outputs": [],
   "source": [
    "y_pred_final.head()"
   ]
  },
  {
   "cell_type": "code",
   "execution_count": null,
   "id": "0260a185",
   "metadata": {},
   "outputs": [],
   "source": [
    "# Lets check the overall accuracy.\n",
    "print(metrics.accuracy_score(y_pred_final.Converted,y_pred_final.Final_Predicted))"
   ]
  },
  {
   "cell_type": "code",
   "execution_count": null,
   "id": "f465ccda",
   "metadata": {},
   "outputs": [],
   "source": [
    "confusion_1 = metrics.confusion_matrix(y_pred_final.Converted, y_pred_final.Final_Predicted)\n",
    "confusion_1"
   ]
  },
  {
   "cell_type": "code",
   "execution_count": null,
   "id": "1828a872",
   "metadata": {},
   "outputs": [],
   "source": [
    "TP = confusion_1[1,1] # true positives\n",
    "TN = confusion_1[0,0] # true negatives\n",
    "FP = confusion_1[0,1] # false positives\n",
    "FN = confusion_1[1,0] # false negatives"
   ]
  },
  {
   "cell_type": "code",
   "execution_count": null,
   "id": "9c2ab36a",
   "metadata": {},
   "outputs": [],
   "source": [
    "# Lets see the sensitivity of our logistic regression model\n",
    "TP/float(TP+FN)"
   ]
  },
  {
   "cell_type": "code",
   "execution_count": null,
   "id": "17dbf388",
   "metadata": {},
   "outputs": [],
   "source": [
    "# Lets see the specificity \n",
    "TN/float(TN+FP)"
   ]
  },
  {
   "cell_type": "code",
   "execution_count": null,
   "id": "41d992fc",
   "metadata": {},
   "outputs": [],
   "source": [
    "precision_score(y_pred_final.Converted , y_pred_final.Final_Predicted)"
   ]
  },
  {
   "cell_type": "code",
   "execution_count": null,
   "id": "901758f0",
   "metadata": {},
   "outputs": [],
   "source": [
    "recall_score(y_pred_final.Converted, y_pred_final.Final_Predicted)"
   ]
  },
  {
   "cell_type": "markdown",
   "id": "c960d42b",
   "metadata": {},
   "source": [
    "#### Observations on test set:"
   ]
  },
  {
   "cell_type": "markdown",
   "id": "3e6ff787",
   "metadata": {},
   "source": [
    "##### After running the model on the Test Data these are the outcomes we obtain:\n",
    "Accuracy : 89.33%\n",
    "Sensitivity : 88.14%\n",
    "Specificity : 90.09%"
   ]
  },
  {
   "cell_type": "markdown",
   "id": "96696254",
   "metadata": {},
   "source": [
    "### Final Observation:"
   ]
  },
  {
   "cell_type": "markdown",
   "id": "be6efd9b",
   "metadata": {},
   "source": [
    "##### Comparing the values obtained for Train and Test Sets.\n",
    "\n",
    "### Train Data :\n",
    "\n",
    "#### Accuracy : 89.80%\n",
    "#### Sensitivity : 88.81%\n",
    "#### Specificity : 90.40%\n",
    "\n",
    "### Test Data :\n",
    "\n",
    "#### Accuracy : 89.3%\n",
    "#### Sensitivity : 88.14%\n",
    "#### Specificity : 90.09%"
   ]
  },
  {
   "cell_type": "markdown",
   "id": "5e874d23",
   "metadata": {},
   "source": [
    "#### THIS MODEL SHOWS GOOD CONVERSION RATE AND THE CEO OF THE X COMPANY WOULD BE ABLE TO MAKE DECISIONS BASED ON THESE INFORMATIONS"
   ]
  },
  {
   "cell_type": "markdown",
   "id": "203cee7e",
   "metadata": {},
   "source": [
    "##### XXX-------XXX"
   ]
  },
  {
   "cell_type": "code",
   "execution_count": null,
   "id": "230df1b4",
   "metadata": {},
   "outputs": [],
   "source": []
  }
 ],
 "metadata": {
  "kernelspec": {
   "display_name": "Python 3 (ipykernel)",
   "language": "python",
   "name": "python3"
  },
  "language_info": {
   "codemirror_mode": {
    "name": "ipython",
    "version": 3
   },
   "file_extension": ".py",
   "mimetype": "text/x-python",
   "name": "python",
   "nbconvert_exporter": "python",
   "pygments_lexer": "ipython3",
   "version": "3.9.17"
  }
 },
 "nbformat": 4,
 "nbformat_minor": 5
}
